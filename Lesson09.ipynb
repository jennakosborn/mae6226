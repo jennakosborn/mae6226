{
 "cells": [
  {
   "cell_type": "markdown",
   "metadata": {},
   "source": [
    "# Lesson 09 - Flow over a cylinder with Source Panels \n",
    "\n",
    "We have used flow singularities to represent simple gemometries (Rankine Oval) or circular cylinder immersed in a freestream \n",
    "\n",
    "What isf we want to represent an arbitrary geometry? We will learn that in this lesson. This method consists of representing geometry of a body by a series of linear segments or panels that correspond to source sheets \n",
    "\n"
   ]
  },
  {
   "cell_type": "code",
   "execution_count": 1,
   "metadata": {
    "collapsed": true
   },
   "outputs": [],
   "source": [
    "import math\n",
    "import numpy \n",
    "from scipy import integrate \n",
    "from matplotlib import pyplot\n",
    "# embed those figures \n",
    "%matplotlib inline "
   ]
  },
  {
   "cell_type": "code",
   "execution_count": 3,
   "metadata": {
    "collapsed": false
   },
   "outputs": [],
   "source": [
    "u_inf = 1.0 #freestream \n"
   ]
  },
  {
   "cell_type": "markdown",
   "metadata": {},
   "source": [
    "## Defing the geometry \n",
    "\n",
    "We want a circular cylinder of unit radius "
   ]
  },
  {
   "cell_type": "code",
   "execution_count": 6,
   "metadata": {
    "collapsed": false
   },
   "outputs": [
    {
     "data": {
      "image/png": "[encoded data removed]",
      "text/plain": [
       "<matplotlib.figure.Figure at 0x7fe179db84a8>"
      ]
     },
     "metadata": {},
     "output_type": "display_data"
    }
   ],
   "source": [
    "#define the cylinder \n",
    "R = 1.0 \n",
    "theta = numpy.linspace(0, 2*math.pi, 100)\n",
    "x_cylinder, y_cylinder = R*numpy.cos(theta), R*numpy.sin(theta)\n",
    "\n",
    "#plot the cylinder \n",
    "size =4\n",
    "pyplot.figure(figsize = (size,size))\n",
    "pyplot.grid(True)\n",
    "pyplot.xlabel('x', fontsize=16)\n",
    "pyplot.ylabel('y', fontsize =16)\n",
    "pyplot.plot(x_cylinder, y_cylinder, color = 'b', linestyle = '-', linewidth = 2)\n",
    "pyplot.xlim(-1.1, 1.1)\n",
    "pyplot.ylim(-1.1, 1.1);"
   ]
  },
  {
   "cell_type": "markdown",
   "metadata": {},
   "source": [
    "## Discretization into panels \n",
    "\n",
    "A panel is represented by the two end points (xa, ya) and (xb, yb) and its strength sigma. The orientaton is defined by angle between the x-axis and the normal in a counter-clockwise sense "
   ]
  },
  {
   "cell_type": "code",
   "execution_count": 7,
   "metadata": {
    "collapsed": true
   },
   "outputs": [],
   "source": [
    "class Panel: \n",
    "    \"\"\"\n",
    "    contains info related to a panel \n",
    "    \"\"\"\n",
    "    def __init__(self, xa, ya, xb, yb):\n",
    "        \"\"\"\n",
    "        Initialized the panel \n",
    "        \n",
    "        Sets the end-points and calculated the center, length, and angle \n",
    "        (with the x-axis) of the panel \n",
    "        Initializes the strength of the source-sheet, the tangential velocity, \n",
    "        and the pressure coefficient to zeo\n",
    "        \n",
    "        Parameters\n",
    "        _----------\n",
    "        xa (float): x-coordinate of the first end-point \n",
    "        ya (float): y-coordinate of the first end point \n",
    "        xb (float): x-coordinate of the second end-point \n",
    "        yb (float): y-coordinate of the second end point \n",
    "        \"\"\"\n",
    "        self.xa, self.ya = xa, ya \n",
    "        self.xb, self.yb = xb, yb \n",
    "        \n",
    "        self.xc, self.yc = (xa+xb)/2, (ya+yb)/2  # control point (center point)\n",
    "        self.length = math.sqrt((xb-xa)**2+ (yb-ya)**2)  #length of the panel \n",
    "        \n",
    "        # orientation of the panel (angle between x-axis and panel's normal)\n",
    "        if xb-xa <=0.: \n",
    "            self.beta= math.acos((yb-ya)/self.length)\n",
    "        elif xb-xa > 0.: \n",
    "            self.beta = math.pi + math.acos(-(yb-ya)/self.length)\n",
    "        \n",
    "        self.sigma = 0. \n",
    "        self.vt = 0. \n",
    "        self.cp = 0. \n",
    "        \n",
    "        "
   ]
  },
  {
   "cell_type": "code",
   "execution_count": 8,
   "metadata": {
    "collapsed": true
   },
   "outputs": [],
   "source": [
    "N_panels =10  # number of panels desired "
   ]
  },
  {
   "cell_type": "code",
   "execution_count": null,
   "metadata": {
    "collapsed": true
   },
   "outputs": [],
   "source": []
  }
 ],
 "metadata": {
  "anaconda-cloud": {},
  "kernelspec": {
   "display_name": "Python [conda root]",
   "language": "python",
   "name": "conda-root-py"
  },
  "language_info": {
   "codemirror_mode": {
    "name": "ipython",
    "version": 3
   },
   "file_extension": ".py",
   "mimetype": "text/x-python",
   "name": "python",
   "nbconvert_exporter": "python",
   "pygments_lexer": "ipython3",
   "version": "3.5.2"
  }
 },
 "nbformat": 4,
 "nbformat_minor": 1
}
