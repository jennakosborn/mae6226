{
 "cells": [
  {
   "cell_type": "markdown",
   "metadata": {},
   "source": [
    "# Lesson03 - Doublets\n",
    "\n",
    "\n",
    "We have done Source & Sinks and Source & Sink in a Freestream \n",
    "\n",
    "We want to think about the Source & Sink again, but as if you are observing from a very far distance. As you go further away, the distance between the source and the sink approaches 0, and this is called a doublet. \n",
    "\n",
    "IMPORT THOSE LIBRARIES BEFORE WE START \n"
   ]
  },
  {
   "cell_type": "code",
   "execution_count": null,
   "metadata": {
    "collapsed": true
   },
   "outputs": [],
   "source": []
  }
 ],
 "metadata": {
  "kernelspec": {
   "display_name": "Python [conda root]",
   "language": "python",
   "name": "conda-root-py"
  },
  "language_info": {
   "codemirror_mode": {
    "name": "ipython",
    "version": 3
   },
   "file_extension": ".py",
   "mimetype": "text/x-python",
   "name": "python",
   "nbconvert_exporter": "python",
   "pygments_lexer": "ipython3",
   "version": "3.5.2"
  }
 },
 "nbformat": 4,
 "nbformat_minor": 1
}
