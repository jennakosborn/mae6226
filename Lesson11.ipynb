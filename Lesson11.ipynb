{
 "cells": [
  {
   "cell_type": "markdown",
   "metadata": {},
   "source": [
    "# Lesson 11 - Vortex-source panel method\n",
    "\n",
    "\n",
    "**Lesson09 Recap**: source-panel method to represent a circular cylinder \n",
    "\n",
    "**Lesson10 Recap**: Source-panel method to represent a symmetric airfoil\n",
    "\n",
    "What if we want there to be lift? \n",
    "We need to keep in mind the **Kutta-condition** that allows us to determine wat the right amount of circulation there should be to generate lift\n",
    "\n",
    "## A lifting-body panel method\n",
    "\n",
    "If we calculated the flow from a free-stream and a source sheet only at an angle of nonzero, the rear stagnation point will not be located at the trailing edge. Instead, the stagnation point will be somewhere on the top surface of the airfoil. This is nont physically possible solution.\n",
    "\n",
    "### The Kutta conditon\n",
    "\n",
    "Stats that the pressure below and above the airfoil trailing edge must be equal so that the flow does not bend around it and instead leaves the airfoil tangentially. The rear stagnation point must be exactly at the trailing edge. This allows us to correct potential-flow theory so that it gives a solution closer to reality. \n",
    "\n",
    "\n",
    "**Lift always requires circulation**\n",
    "\n",
    "### Discretization into panels \n",
    "\n",
    "Let's get the preliminaries out of the way. We need to import our favortie libraries!"
   ]
  },
  {
   "cell_type": "code",
   "execution_count": 2,
   "metadata": {
    "collapsed": true
   },
   "outputs": [],
   "source": [
    "# import libraries and modules needed \n",
    "import os\n",
    "import numpy as np\n",
    "from scipy import integrate, linalg\n",
    "from matplotlib import pyplot \n",
    "\n",
    "# integrate plots into the notebook \n",
    "%matplotlib inline "
   ]
  },
  {
   "cell_type": "code",
   "execution_count": 3,
   "metadata": {
    "collapsed": false
   },
   "outputs": [],
   "source": [
    "# load geometry from data file \n",
    "naca_filepath = os.path.join('naca0012.dat')\n",
    "with open(naca_filepath, 'r') as infile: \n",
    "    x,y = np.loadtxt(infile, dtype=float, unpack = True)"
   ]
  },
  {
   "cell_type": "code",
   "execution_count": 4,
   "metadata": {
    "collapsed": false
   },
   "outputs": [
    {
     "data": {
      "image/png": "[encoded data removed]",
      "text/plain": [
       "<matplotlib.figure.Figure at 0x7f442f71a9e8>"
      ]
     },
     "metadata": {},
     "output_type": "display_data"
    }
   ],
   "source": [
    "# plot the geometry\n",
    "width =10\n",
    "pyplot.figure(figsize=(width,width))\n",
    "pyplot.grid()\n",
    "pyplot.xlabel('x', fontsize=16)\n",
    "pyplot.ylabel('y', fontsize=16)\n",
    "pyplot.plot(x,y,color='k', linestyle='-', linewidth=2)\n",
    "pyplot.axis('scaled', adjustable='box')\n",
    "pyplot.xlim(-0.1, 1.1)\n",
    "pyplot.ylim(-0.1,0.1);"
   ]
  },
  {
   "cell_type": "code",
   "execution_count": 5,
   "metadata": {
    "collapsed": true
   },
   "outputs": [],
   "source": [
    "class Panel: \n",
    "    \"\"\" \n",
    "    contains inforation related to a panel. \n",
    "    \"\"\"\n",
    "    def __init__(self,xa,ya,xb,yb):\n",
    "        \"\"\"\n",
    "        Initialized the panel. \n",
    "        \n",
    "        Sets the end-points and calculates the center-point, length, \n",
    "        and angle(with x-axis) of the panel. \n",
    "        Defines if the panel is located on the upper or lower surface of the geometry. \n",
    "        Initializes the source-strength, tangential velocity, and pressure coefficient \n",
    "        of the panel to zero. \n",
    "        \n",
    "        Parameters\n",
    "        ---------\n",
    "        xa: float \n",
    "            x-coordinate of the first end-point.\n",
    "        ya: float \n",
    "            y-coordinate of the first end-point. \n",
    "        xb: float \n",
    "            x-coordinate of the second end-point.\n",
    "        yb: float \n",
    "            y-coordinate of the second end-point. \n",
    "        \"\"\"\n",
    "        \n",
    "        self.xa, self.ya = xa, ya #panel starting-point \n",
    "        self.xb, self.yb = xb,yb # panel ending point \n",
    "        \n",
    "        self.xc, self.yc = (xa+xb)/2, (ya+yb)/2\n",
    "        self.length = np.sqrt((xb-xa)**2+(yb-ya)**2) \n",
    "        \n",
    "        # orientation of panel (angle between x-axis and panel's normal)\n",
    "        if xb-xa <= 0.0: \n",
    "            self.beta = np.arccos((yb-ya)/self.length)\n",
    "        elif xb-xa > 0.0: \n",
    "            self.beta = np.pi + np.arccos(-(yb-ya)/self.length)\n",
    "        \n",
    "        # panel location \n",
    "        if self.beta <= np.pi:\n",
    "            self.loc = 'upper'\n",
    "        else:\n",
    "            self.loc = 'lower'\n",
    "            \n",
    "        self.sigma = 0.0\n",
    "        self.vt =0.0\n",
    "        self.cp = 0.0 \n",
    "    "
   ]
  },
  {
   "cell_type": "code",
   "execution_count": 6,
   "metadata": {
    "collapsed": false
   },
   "outputs": [],
   "source": [
    "def define_panels(x,y,N=40):\n",
    "    \"\"\"\n",
    "    Discretizes the geometry into panels using 'cosine' method.\n",
    "    \n",
    "    Parameters\n",
    "    ----------\n",
    "    x: 1D array of floats \n",
    "        x-coordinates of defining geometry \n",
    "    y: 1D array of floats \n",
    "        y-coordinates of defining geometry\n",
    "    N: integer, optional\n",
    "        Number of panels (default: 40)\n",
    "    \n",
    "    \n",
    "    Returns \n",
    "    -------\n",
    "    panels: 1D numpy array of panel objects \n",
    "        list of the panels \n",
    "    \"\"\"\n",
    "    \n",
    "    R = (x.max()-x.min())/2.0        # circle radius\n",
    "    x_center = (x.max()+x.min())/2.0 # x-coordinate of circle center\n",
    "    \n",
    "    theta = np.linspace(0.0, 2.0*np.pi, N+1) # array of angles\n",
    "    x_circle = x_center +  R*np.cos(theta)      # x-coordinates of circle\n",
    "    \n",
    "    x_ends = np.copy(x_circle)     # x-coordinate of panels end-points\n",
    "    y_ends = np.empty_like(x_ends) # y-coordinate of panels end-points\n",
    "    \n",
    "    # extend coordinates to consider closed surface\n",
    "    x, y = np.append(x, x[0]), np.append(y, y[0])\n",
    "    \n",
    "    # compute y-coordinate of end-points by projection\n",
    "    I = 0\n",
    "    for i in range(N):\n",
    "        while I < len(x)-1:\n",
    "            if (x[I] <= x_ends[i] <= x[I+1]) or (x[I+1] <= x_ends[i] <= x[I]):\n",
    "                break\n",
    "            else:\n",
    "                I += 1\n",
    "        a = (y[I+1]-y[I])/(x[I+1]-x[I])\n",
    "        b = y[I+1] - a*x[I+1]\n",
    "        y_ends[i] = a*x_ends[i] + b\n",
    "    y_ends[N] = y_ends[0]\n",
    "    \n",
    "    # create panels\n",
    "    panels = np.empty(N, dtype=object)\n",
    "    for i in range(N):\n",
    "        panels[i] = Panel(x_ends[i], y_ends[i], x_ends[i+1], y_ends[i+1])\n",
    "    \n",
    "    return panels\n",
    "    "
   ]
  },
  {
   "cell_type": "code",
   "execution_count": 7,
   "metadata": {
    "collapsed": false
   },
   "outputs": [],
   "source": [
    "#discretize geometry into panels \n",
    "panels = define_panels(x,y,N=40)"
   ]
  },
  {
   "cell_type": "code",
   "execution_count": 8,
   "metadata": {
    "collapsed": false
   },
   "outputs": [
    {
     "data": {
      "image/png": "[encoded data removed]",
      "text/plain": [
       "<matplotlib.figure.Figure at 0x7f442f7243c8>"
      ]
     },
     "metadata": {},
     "output_type": "display_data"
    }
   ],
   "source": [
    "#plot the discretized geometry \n",
    "width= 10 \n",
    "pyplot.figure(figsize=(width,width))\n",
    "pyplot.grid()\n",
    "pyplot.xlabel('x', fontsize=16)\n",
    "pyplot.ylabel('y', fontsize=16)\n",
    "pyplot.plot(x,y,color='k', linestyle = '-', linewidth=2)\n",
    "pyplot.plot(np.append([panel.xa for panel in panels], panels[0].xa),\n",
    "           np.append([panel.ya for panel in panels], panels[0].ya), \n",
    "           linestyle='-', linewidth=1, marker= 'o', markersize=6, color= '#CD2305')\n",
    "pyplot.axis('scaled', adjustable='box')\n",
    "pyplot.xlim(-0.1, 1.1)\n",
    "pyplot.ylim(-0.1, 0.1);"
   ]
  },
  {
   "cell_type": "markdown",
   "metadata": {},
   "source": [
    "### Free stream conditions \n"
   ]
  },
  {
   "cell_type": "code",
   "execution_count": 8,
   "metadata": {
    "collapsed": true
   },
   "outputs": [],
   "source": [
    "class Freestream: \n",
    "    \"\"\"\n",
    "    Freestream conditions\n",
    "    \"\"\"\n",
    "    def __init__(self, u_inf=1.0, alpha=0.0):\n",
    "        \"\"\"\n",
    "        Sets the freestream speed and angle (in degrees). \n",
    "        \n",
    "        Parameters\n",
    "        ----------\n",
    "        u_inf: float, optional\n",
    "            Freestream speed;\n",
    "            default: 1.0. \n",
    "        alpha: float, optional\n",
    "            Angle of attack in degrees; \n",
    "            default= 0.0. \n",
    "        \"\"\"\n",
    "        self.u_inf = u_inf \n",
    "        self.alpha = alpha*np.pi/180.0 #degrees to radians "
   ]
  },
  {
   "cell_type": "code",
   "execution_count": 9,
   "metadata": {
    "collapsed": false
   },
   "outputs": [],
   "source": [
    "# define freestream conditions \n",
    "freestream = Freestream(u_inf=1.0, alpha=4.0)"
   ]
  },
  {
   "cell_type": "markdown",
   "metadata": {},
   "source": [
    "### Flow Tangency Boundary Condition\n",
    "\n",
    "A constant vortex strength will be added to each panel (all panels have the same, constant vortex-sheet strength) and the flow normal to the panel is going to be zero. \n",
    "\n",
    "\n",
    "### Building a linear system \n",
    "\n",
    "[A][sigma, gamma] = [b]\n",
    "\n"
   ]
  },
  {
   "cell_type": "code",
   "execution_count": 10,
   "metadata": {
    "collapsed": true
   },
   "outputs": [],
   "source": [
    "def integral(x,y,panel,dxdk,dydk):\n",
    "    \"\"\"\n",
    "    Evaluates the contribution from a panel at a given point. \n",
    "    \n",
    "    Parameters\n",
    "    ----------\n",
    "    x: float \n",
    "        x-coordinate of the target point\n",
    "    y: float \n",
    "        y-coordinate of the target point\n",
    "    panel: Panel object \n",
    "        Panel whose contribution is evaluated\n",
    "    dxdk: float \n",
    "        Value of the derivative of x in a certain direction. \n",
    "    dydk: float \n",
    "        Value of the derivative of y in a certain direction. \n",
    "        \n",
    "    Returns\n",
    "    -------\n",
    "    Contribution from the panel at a given point (x,y). \n",
    "    \"\"\"\n",
    "    def integrand(s):\n",
    "        return ( ((x -(panel.xa - np.sin(panel.beta)*s))*dxdk\n",
    "                 +(y -(panel.ya + np.cos(panel.beta)*s))*dydk)\n",
    "               / ((x - (panel.xa - np.sin(panel.beta)*s))**2 \n",
    "                 + (y - (panel.ya + np.cos(panel.beta)*s))**2) )\n",
    "    return integrate.quad(integrand, 0.0, panel.length)[0]"
   ]
  },
  {
   "cell_type": "markdown",
   "metadata": {},
   "source": [
    "We first define the function **source_contribution_normal** to build the source matrix (the weight from each source on the normal velocity of each panel): "
   ]
  },
  {
   "cell_type": "code",
   "execution_count": 11,
   "metadata": {
    "collapsed": true
   },
   "outputs": [],
   "source": [
    "def source_contribution_normal(panels):\n",
    "    \"\"\"\n",
    "    Builds the source contribution matrix for the normal velocity. \n",
    "    \n",
    "    Parameters\n",
    "    ----------\n",
    "    panels: 1D array of Panel objects \n",
    "        List of panels. \n",
    "    \n",
    "    Returns\n",
    "    -------\n",
    "    A: 2D numpy array of floats\n",
    "        Source contribution matrix\n",
    "    \"\"\"\n",
    "    \n",
    "    A = np.empty((panels.size, panels.size))\n",
    "    # source contribution on a panel from itself \n",
    "    np.fill_diagonal(A, 0.5)\n",
    "    # source contribution on a panel from others \n",
    "    for i, panel_i in enumerate(panels):\n",
    "        for j, panel_j in enumerate(panels):\n",
    "            if i != j: \n",
    "                A[i,j]= 0.5/np.pi*integral(panel_i.xc, panel_i.yc,\n",
    "                                          panel_j, \n",
    "                                          np.cos(panel_i.beta),\n",
    "                                          np.sin(panel_i.beta))\n",
    "    return A"
   ]
  },
  {
   "cell_type": "markdown",
   "metadata": {},
   "source": [
    "Then, we define **vortex_contribution_normal** to build the vortex matrix:"
   ]
  },
  {
   "cell_type": "code",
   "execution_count": 12,
   "metadata": {
    "collapsed": true
   },
   "outputs": [],
   "source": [
    "def vortex_contribution_normal(panels):\n",
    "    \"\"\"\n",
    "    Builds the vortex contribution matrix for the normal velocity. \n",
    "    \n",
    "    Parameters\n",
    "    ----------\n",
    "    panels: 1D array of panel objects \n",
    "        List of panels. \n",
    "        \n",
    "    Returns \n",
    "    -------\n",
    "    AL 2D Numpy array of floats \n",
    "        Vortex contribution matrix. \n",
    "    \"\"\"\n",
    "    A = np.empty((panels.size, panels.size))\n",
    "    # vortex contribution on a panel from itself \n",
    "    np.fill_diagonal(A, 0.0)\n",
    "    #vortex contribution on a panel from others \n",
    "    for i, panel_i in enumerate(panels): \n",
    "        for j, panel_j in enumerate(panels): \n",
    "            if i != j:\n",
    "                A[i, j] = -0.5/np.pi*integral(panel_i.xc, panel_i.yc, \n",
    "                                                 panel_j,\n",
    "                                                 np.sin(panel_i.beta),\n",
    "                                                 -np.cos(panel_i.beta))\n",
    "    \n",
    "    return A"
   ]
  },
  {
   "cell_type": "code",
   "execution_count": 13,
   "metadata": {
    "collapsed": false
   },
   "outputs": [],
   "source": [
    "#let's call our functions and create our matrices\n",
    "\n",
    "A_source = source_contribution_normal(panels)\n",
    "B_vortex = vortex_contribution_normal(panels)"
   ]
  },
  {
   "cell_type": "markdown",
   "metadata": {},
   "source": [
    "We still have to apply the **Kutta Condition**"
   ]
  },
  {
   "cell_type": "code",
   "execution_count": 19,
   "metadata": {
    "collapsed": false
   },
   "outputs": [],
   "source": [
    "def kutta_condition(A_source, B_vortex):\n",
    "    \"\"\"\n",
    "    Builds the Kutta Condition array. \n",
    "    \n",
    "    Parameters\n",
    "    ----------\n",
    "    A_source: 2D Numpy array of floats \n",
    "        Source contribution matrix for the normal velocity.\n",
    "    B_vortex: 2D Numpy array of floats \n",
    "        Vortex contribution matrix for normal velocity. \n",
    "    \n",
    "    Returns\n",
    "    -------\n",
    "    b: 1D Numpy array of floats \n",
    "        The left-hand side of the Kutta-condition equation. \n",
    "    \"\"\"\n",
    "    \n",
    "    b = np.empty(A_source.shape[0]+1, dtype=float)\n",
    "    # matrix of source contribution on tangential velocity \n",
    "    # is the same than matrix of vortex contribution on normal velocity \n",
    "    b[:-1] = B_vortex[0, :] + B_vortex[-1, :]\n",
    "    # matrix of vortex contribution on tangential vleocity is the opposite of \n",
    "    #matrix of source contribution on normal velocity\n",
    "    b[-1] = - np.sum(A_source[0, :] + A_source[-1, :])\n",
    "    return b"
   ]
  },
  {
   "cell_type": "code",
   "execution_count": 20,
   "metadata": {
    "collapsed": false
   },
   "outputs": [],
   "source": [
    "def build_singularity_matrix(A_source, B_vortex):\n",
    "    \"\"\"\n",
    "    Builds the left-hand side matrix of the system \n",
    "    arising from source and vortex contributions. \n",
    "    \n",
    "    Parameters\n",
    "    ----------\n",
    "    A_source: 2D numpy array of floats \n",
    "        Source contribution matrix for the normal velocity.\n",
    "    B_vortex: 2D numpy array of floats \n",
    "        Vortex contribution matrix for the normal velocity \n",
    "    \n",
    "    Returns \n",
    "    --------\n",
    "    A: 2D numpy array of floats \n",
    "        Matrix of the linear system. \n",
    "    \"\"\"\n",
    "    A = np.empty((A_source.shape[0]+1, A_source.shape[1]+1), dtype = float)\n",
    "    # source contribution matrix \n",
    "    A[:-1, :-1] = A_source \n",
    "    #vortex contribution array\n",
    "    A[:-1, -1] = np.sum(B_vortex, axis=1)\n",
    "    #Kutta condition array \n",
    "    A[-1, :]= kutta_condition(A_source, B_vortex)\n",
    "    return A"
   ]
  },
  {
   "cell_type": "code",
   "execution_count": 21,
   "metadata": {
    "collapsed": true
   },
   "outputs": [],
   "source": [
    "def build_freestream_rhs(panels, freestream):\n",
    "    \"\"\"\n",
    "    Builds the right hand side of the system \n",
    "    arising from the freestream contribution. \n",
    "    \n",
    "    Parameters\n",
    "    ----------\n",
    "    panels: 1D array of Panel objects \n",
    "        List of panels. \n",
    "    freestream: freestrea, object \n",
    "        Freestream conditions. \n",
    "        \n",
    "    Returns \n",
    "    --------\n",
    "    b: 1D numpy array of floats \n",
    "        Freestream contribution on each panel and on the kutta condition. \n",
    "    \"\"\"\n",
    "    b= np.empty(panels.size+1, dtype=float)\n",
    "    # freestream contribution on each panel \n",
    "    for i, panel in enumerate(panels):\n",
    "        b[i] = -freestream.u_inf*np.cos(freestream.alpha-panel.beta)\n",
    "    #freestream contribution  on the Kutta condition \n",
    "    b[-1]= -freestream.u_inf*( np.sin(freestream.alpha-panels[0].beta)\n",
    "                             + np.sin(freestream.alpha-panels[-1].beta) )\n",
    "    return b"
   ]
  },
  {
   "cell_type": "code",
   "execution_count": 22,
   "metadata": {
    "collapsed": false
   },
   "outputs": [],
   "source": [
    "A = build_singularity_matrix(A_source, B_vortex)\n",
    "b = build_freestream_rhs(panels, freestream)"
   ]
  },
  {
   "cell_type": "markdown",
   "metadata": {},
   "source": [
    "We are going to use the Scipy function **linalg.solve** and we can store the results of sigma (source) and gamma (vortex)"
   ]
  },
  {
   "cell_type": "code",
   "execution_count": 23,
   "metadata": {
    "collapsed": true
   },
   "outputs": [],
   "source": [
    "#solve for singularity strengths \n",
    "strengths = np.linalg.solve(A,b)\n",
    "\n",
    "#store source strength on each panel \n",
    "for i, panel in enumerate(panels):\n",
    "    panel.sigma = strengths[i]\n",
    "\n",
    "#store circulation density \n",
    "gamma = strengths[-1]"
   ]
  },
  {
   "cell_type": "markdown",
   "metadata": {},
   "source": [
    "## Surface Pressure Coefficient \n",
    "\n",
    "The pressure coefficient at the i-th panel center is our normal equation with the tangential velocity \n",
    "\n",
    "We are going to compute the tangential velocity at each panel center using the function **compute_tangential_velocity**:"
   ]
  },
  {
   "cell_type": "code",
   "execution_count": 28,
   "metadata": {
    "collapsed": true
   },
   "outputs": [],
   "source": [
    "def compute_tangential_velocity(panels, freestream, gamma, A_source, B_vortex):\n",
    "    \"\"\"\n",
    "    computes the tangential surface velocity \n",
    "    \n",
    "    Parameters\n",
    "    ----------\n",
    "    panels: 1D array of Panel objects \n",
    "        List of panels. \n",
    "    freestream: Freestream Object\n",
    "        freestream conditions. \n",
    "    gamma: float\n",
    "        Circulation Density. \n",
    "    A_source: 2D numpy array of floats \n",
    "        Source contribution matrix for the normal velocity. \n",
    "    B_vortex: 2D Numpy array of floats \n",
    "        Vortex contribution matrix for the normal velocity \n",
    "    \"\"\"\n",
    "    \n",
    "    A = np.empty((panels.size, panels.size+1))\n",
    "    #matrix of source contribution on tangential velocity \n",
    "    # is the same as matrix of vortex contribution on normal velocity \n",
    "    A[:,:-1]=B_vortex\n",
    "    #matrix of vortex contribution on tangential velocity is the opposite of matrix \n",
    "    # of source contribution on normal velocity \n",
    "    A[:,-1] = -np.sum(A_source, axis=1)\n",
    "    # freestream contribution \n",
    "    b = freestream.u_inf*np.sin([freestream.alpha-panel.beta for panel in panels])\n",
    "    strengths = np.append([panel.sigma for panel in panels], gamma)\n",
    "    \n",
    "    tangential_velocities = np.dot(A,strengths) + b\n",
    "    \n",
    "    for i, panel in enumerate(panels):\n",
    "        panel.vt = tangential_velocities[i]"
   ]
  },
  {
   "cell_type": "code",
   "execution_count": 29,
   "metadata": {
    "collapsed": false
   },
   "outputs": [],
   "source": [
    "# tangential velocity at the each panel center\n",
    "compute_tangential_velocity(panels, freestream, gamma, A_source, B_vortex)"
   ]
  },
  {
   "cell_type": "markdown",
   "metadata": {},
   "source": [
    "We define the function **compute_pressure_coefficient** to compute the surface pressure coefficient:"
   ]
  },
  {
   "cell_type": "code",
   "execution_count": 43,
   "metadata": {
    "collapsed": true
   },
   "outputs": [],
   "source": [
    "def compute_pressure_coefficient(panels,freestream):\n",
    "    \"\"\"\n",
    "    Computes the surface pressure coefficients. \n",
    "    \n",
    "    Parameters\n",
    "    ----------\n",
    "    panels: 1D array of Panel objects\n",
    "        List of panels\n",
    "    freestream: Freestream object \n",
    "        Freestream conditions. \n",
    "    \"\"\"\n",
    "    \n",
    "    for panel in panels: \n",
    "        panel.cp = 1.0-(panel.vt/freestream.u_inf)**2"
   ]
  },
  {
   "cell_type": "code",
   "execution_count": 49,
   "metadata": {
    "collapsed": false
   },
   "outputs": [],
   "source": [
    "# surface pressure coefficent \n",
    "compute_pressure_coefficient(panels, freestream)"
   ]
  },
  {
   "cell_type": "code",
   "execution_count": 56,
   "metadata": {
    "collapsed": false
   },
   "outputs": [
    {
     "data": {
      "image/png": "[encoded data removed]",
      "text/plain": [
       "<matplotlib.figure.Figure at 0x7fe0c2563048>"
      ]
     },
     "metadata": {},
     "output_type": "display_data"
    }
   ],
   "source": [
    "# plot the surface pressure coefficient \n",
    "pyplot.figure(figsize=(10,6))\n",
    "pyplot.grid()\n",
    "pyplot.xlabel('$x$', fontsize=16)\n",
    "pyplot.ylabel('$y$', fontsize=16)\n",
    "pyplot.plot([panel.xc for panel in panels if panel.loc == 'upper'], \n",
    "           [panel.cp for panel in panels if panel.loc == 'upper'], \n",
    "           label = 'upper surface',\n",
    "           color = 'r', linestyle= '-', linewidth = 2, marker= 'o', markersize=6)\n",
    "pyplot.plot([panel.xc for panel in panels if panel.loc == 'lower'], \n",
    "            [panel.cp for panel in panels if panel.loc == 'lower'], \n",
    "            label = 'lower surface', \n",
    "            color = 'b', linestyle = '-', linewidth=1, marker= 'o', markersize = 6)\n",
    "pyplot.legend(loc='best', prop={'size':16})\n",
    "pyplot.xlim(-0.1, 1.1)\n",
    "pyplot.ylim(1.0,-2.0)\n",
    "pyplot.title('Number of panels: {}'.format(panels.size), fontsize=16);"
   ]
  },
  {
   "cell_type": "markdown",
   "metadata": {},
   "source": [
    "## Accuracy Check\n",
    "\n",
    "For a closed body, the sume of the source strengths must be 0. If not it means the body would be adding or absorbing mass from the flow. \n",
    "\n",
    "sigma* l summed should be zero"
   ]
  },
  {
   "cell_type": "code",
   "execution_count": 58,
   "metadata": {
    "collapsed": false
   },
   "outputs": [
    {
     "name": "stdout",
     "output_type": "stream",
     "text": [
      "sum of singularities strengths: 0.004606\n"
     ]
    }
   ],
   "source": [
    "# calculate the accuracy\n",
    "accuracy = sum([panel.sigma*panel.length for panel in panels])\n",
    "print('sum of singularities strengths: {:0.6f}'.format(accuracy))"
   ]
  },
  {
   "cell_type": "markdown",
   "metadata": {},
   "source": [
    "## Lift Coefficient \n",
    "\n",
    "The list coefficient is given by the density times circulation times freestream velocity \n",
    "\n",
    "The circulation is given by the sum of the gammas times length \n",
    "\n",
    "The lift coefficeint is just the total circulation divided by 0.5 u_inf c \n",
    "c== chord length of airfoil\n"
   ]
  },
  {
   "cell_type": "code",
   "execution_count": 62,
   "metadata": {
    "collapsed": false
   },
   "outputs": [
    {
     "name": "stdout",
     "output_type": "stream",
     "text": [
      "lift coefficeint: CL = 0.506\n"
     ]
    }
   ],
   "source": [
    "# compute the chord and the lift coeffcient \n",
    "c = abs(max(panel.xa for panel in panels) - min(panel.xa for panel in panels))\n",
    "\n",
    "cl = (gamma*sum(panel.length for panel in panels)\n",
    "      / (0.5*freestream.u_inf*c))\n",
    "print('lift coefficeint: CL = {:0.3f}'.format(cl))"
   ]
  },
  {
   "cell_type": "code",
   "execution_count": null,
   "metadata": {
    "collapsed": true
   },
   "outputs": [],
   "source": []
  }
 ],
 "metadata": {
  "anaconda-cloud": {},
  "kernelspec": {
   "display_name": "Python [conda root]",
   "language": "python",
   "name": "conda-root-py"
  },
  "language_info": {
   "codemirror_mode": {
    "name": "ipython",
    "version": 3
   },
   "file_extension": ".py",
   "mimetype": "text/x-python",
   "name": "python",
   "nbconvert_exporter": "python",
   "pygments_lexer": "ipython3",
   "version": "3.5.2"
  }
 },
 "nbformat": 4,
 "nbformat_minor": 1
}
