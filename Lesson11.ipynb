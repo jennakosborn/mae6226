{
 "cells": [
  {
   "cell_type": "markdown",
   "metadata": {},
   "source": [
    "# Lesson 11 - Vortex-source panel method\n",
    "\n",
    "\n",
    "**Lesson09 Recap**: source-panel method to represent a circular cylinder \n",
    "\n",
    "**Lesson10 Recap**: Source-panel method to represent a symmetric airfoil\n",
    "\n",
    "What if we want there to be lift? \n",
    "We need to keep in mind the **Kutta-condition** that allows us to determine wat the right amount of circulation there should be to generate lift\n",
    "\n",
    "## A lifting-body panel method\n",
    "\n",
    "If we calculated the flow from a free-stream and a source sheet only at an angle of nonzero, the rear stagnation point will not be located at the trailing edge. Instead, the stagnation point will be somewhere on the top surface of the airfoil. This is nont physically possible solution. "
   ]
  },
  {
   "cell_type": "code",
   "execution_count": null,
   "metadata": {
    "collapsed": true
   },
   "outputs": [],
   "source": []
  }
 ],
 "metadata": {
  "anaconda-cloud": {},
  "kernelspec": {
   "display_name": "Python [conda root]",
   "language": "python",
   "name": "conda-root-py"
  },
  "language_info": {
   "codemirror_mode": {
    "name": "ipython",
    "version": 3
   },
   "file_extension": ".py",
   "mimetype": "text/x-python",
   "name": "python",
   "nbconvert_exporter": "python",
   "pygments_lexer": "ipython3",
   "version": "3.5.2"
  }
 },
 "nbformat": 4,
 "nbformat_minor": 1
}
