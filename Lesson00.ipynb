{
 "cells": [
  {
   "cell_type": "markdown",
   "metadata": {},
   "source": [
    "# Lesson 0- Python Crash Course\n",
    "\n",
    "Lets get started with some notes on Python! Woot! \n",
    "\n",
    "## Libraries\n",
    "The libraries are pre-defined functions that are written for python users. \n",
    "Have to import them when we need them. \n",
    "\n",
    "**Numpy** is the library of useful of array operations (like Matlab) \n",
    "**Matplotlib** is the libary of 2D plotting functions \n",
    "\n",
    "Lets import! "
   ]
  },
  {
   "cell_type": "code",
   "execution_count": 2,
   "metadata": {
    "collapsed": true
   },
   "outputs": [],
   "source": [
    "# COMMENTS \n",
    "import numpy \n",
    "from matplotlib import pyplot  # we are importing a MODULE from a big library of matplotlib"
   ]
  },
  {
   "cell_type": "markdown",
   "metadata": {},
   "source": [
    "From **NumPy** we want to create a equally space vector, we will use the function **linspace()**, it takes imputs of [beginning, end, number of points]\n",
    "\n",
    "If the number of points is not designated, it defaults to 50. YOU HAVE TO USE the form below, or it will throw an error"
   ]
  },
  {
   "cell_type": "code",
   "execution_count": 3,
   "metadata": {
    "collapsed": false
   },
   "outputs": [
    {
     "name": "stdout",
     "output_type": "stream",
     "text": [
      "[ 0.          0.55555556  1.11111111  1.66666667  2.22222222  2.77777778\n",
      "  3.33333333  3.88888889  4.44444444  5.        ]\n"
     ]
    }
   ],
   "source": [
    "myarray = numpy.linspace(0,5,10)\n",
    "print(myarray)"
   ]
  },
  {
   "cell_type": "markdown",
   "metadata": {},
   "source": [
    "# Variables \n",
    "\n",
    "Sometimes we want to assign a variable to a value, like such... \n"
   ]
  },
  {
   "cell_type": "code",
   "execution_count": 4,
   "metadata": {
    "collapsed": true
   },
   "outputs": [],
   "source": [
    "a = 5  #integer \n",
    "b = 'five' #string \n",
    "c = 5.0 #float!"
   ]
  },
  {
   "cell_type": "markdown",
   "metadata": {},
   "source": [
    "Let's try to ask to see if python knows the difference of these variables "
   ]
  },
  {
   "cell_type": "code",
   "execution_count": 5,
   "metadata": {
    "collapsed": false
   },
   "outputs": [
    {
     "data": {
      "text/plain": [
       "int"
      ]
     },
     "execution_count": 5,
     "metadata": {},
     "output_type": "execute_result"
    }
   ],
   "source": [
    "type(a)"
   ]
  },
  {
   "cell_type": "code",
   "execution_count": 6,
   "metadata": {
    "collapsed": false
   },
   "outputs": [
    {
     "data": {
      "text/plain": [
       "str"
      ]
     },
     "execution_count": 6,
     "metadata": {},
     "output_type": "execute_result"
    }
   ],
   "source": [
    "type(b)\n"
   ]
  },
  {
   "cell_type": "code",
   "execution_count": 7,
   "metadata": {
    "collapsed": false
   },
   "outputs": [
    {
     "data": {
      "text/plain": [
       "float"
      ]
     },
     "execution_count": 7,
     "metadata": {},
     "output_type": "execute_result"
    }
   ],
   "source": [
    "type(c)"
   ]
  },
  {
   "cell_type": "markdown",
   "metadata": {},
   "source": [
    "Floasts and integers math produce the correct value to machine precision."
   ]
  },
  {
   "cell_type": "code",
   "execution_count": 8,
   "metadata": {
    "collapsed": false
   },
   "outputs": [
    {
     "data": {
      "text/plain": [
       "2.8"
      ]
     },
     "execution_count": 8,
     "metadata": {},
     "output_type": "execute_result"
    }
   ],
   "source": [
    "14/a"
   ]
  },
  {
   "cell_type": "code",
   "execution_count": 9,
   "metadata": {
    "collapsed": false
   },
   "outputs": [
    {
     "data": {
      "text/plain": [
       "2.8"
      ]
     },
     "execution_count": 9,
     "metadata": {},
     "output_type": "execute_result"
    }
   ],
   "source": [
    "14/c\n"
   ]
  },
  {
   "cell_type": "markdown",
   "metadata": {},
   "source": [
    "Both produce a floating point number \n",
    "\n",
    "## Whitespace in Python\n",
    "\n",
    "Python uses indents and whitespace to group statements. \n",
    "\n",
    "In C it would look something like this....\n",
    "\n",
    "for (i = 0, i < 5, i++){\n",
    "    printf(\"Hi! \\n\"); \n",
    "}\n",
    "\n",
    "Lets take a look at what the python command looks like... \n"
   ]
  },
  {
   "cell_type": "code",
   "execution_count": 11,
   "metadata": {
    "collapsed": false
   },
   "outputs": [
    {
     "name": "stdout",
     "output_type": "stream",
     "text": [
      "HI! \n",
      "\n",
      "HI! \n",
      "\n",
      "HI! \n",
      "\n",
      "HI! \n",
      "\n",
      "HI! \n",
      "\n"
     ]
    }
   ],
   "source": [
    "for i in range(5): \n",
    "    print(\"HI! \\n\") #\\n adds an extra space between HI!'s"
   ]
  },
  {
   "cell_type": "markdown",
   "metadata": {},
   "source": [
    "**range()** function - nifty built-in function of python that gives you a list from a arithmetic progression. \n",
    "\n",
    "What does a nested loops look like? "
   ]
  },
  {
   "cell_type": "code",
   "execution_count": 13,
   "metadata": {
    "collapsed": false
   },
   "outputs": [
    {
     "name": "stdout",
     "output_type": "stream",
     "text": [
      "0 0\n",
      "THIS statement is in BOTH\n",
      "0 1\n",
      "THIS statement is in BOTH\n",
      "0 2\n",
      "THIS statement is in BOTH\n",
      "This statement is contained in the i-loop, NOT the j-loop\n",
      "1 0\n",
      "THIS statement is in BOTH\n",
      "1 1\n",
      "THIS statement is in BOTH\n",
      "1 2\n",
      "THIS statement is in BOTH\n",
      "This statement is contained in the i-loop, NOT the j-loop\n",
      "2 0\n",
      "THIS statement is in BOTH\n",
      "2 1\n",
      "THIS statement is in BOTH\n",
      "2 2\n",
      "THIS statement is in BOTH\n",
      "This statement is contained in the i-loop, NOT the j-loop\n"
     ]
    }
   ],
   "source": [
    "for i in range(3):\n",
    "    for j in range(3):\n",
    "        print(i,j)\n",
    "        print(\"THIS statement is in BOTH\")\n",
    "        \n",
    "    print(\"This statement is contained in the i-loop, NOT the j-loop\")\n",
    "    #which is why it appears 3 times instead of 9 times\n",
    "        "
   ]
  },
  {
   "cell_type": "markdown",
   "metadata": {},
   "source": [
    "# Slicing arrays \n",
    "\n",
    "In numpy we can look at portions of arrays in the same way in matlab..."
   ]
  },
  {
   "cell_type": "code",
   "execution_count": 16,
   "metadata": {
    "collapsed": false
   },
   "outputs": [
    {
     "data": {
      "text/plain": [
       "array([1, 2, 3, 4, 5])"
      ]
     },
     "execution_count": 16,
     "metadata": {},
     "output_type": "execute_result"
    }
   ],
   "source": [
    "myvals = numpy.array([1,2,3,4,5])\n",
    "myvals\n"
   ]
  },
  {
   "cell_type": "markdown",
   "metadata": {},
   "source": [
    "**PYTHON IS ZERO-BASED INDEX** "
   ]
  },
  {
   "cell_type": "code",
   "execution_count": 17,
   "metadata": {
    "collapsed": false
   },
   "outputs": [
    {
     "data": {
      "text/plain": [
       "(1, 5)"
      ]
     },
     "execution_count": 17,
     "metadata": {},
     "output_type": "execute_result"
    }
   ],
   "source": [
    "myvals[0], myvals[4]"
   ]
  },
  {
   "cell_type": "code",
   "execution_count": 1,
   "metadata": {
    "collapsed": false
   },
   "outputs": [
    {
     "ename": "SyntaxError",
     "evalue": "invalid syntax (<ipython-input-1-6d8fe5ae2cae>, line 1)",
     "output_type": "error",
     "traceback": [
      "\u001b[0;36m  File \u001b[0;32m\"<ipython-input-1-6d8fe5ae2cae>\"\u001b[0;36m, line \u001b[0;32m1\u001b[0m\n\u001b[0;31m    making a change\u001b[0m\n\u001b[0m           ^\u001b[0m\n\u001b[0;31mSyntaxError\u001b[0m\u001b[0;31m:\u001b[0m invalid syntax\n"
     ]
    }
   ],
   "source": [
    "making a change"
   ]
  },
  {
   "cell_type": "code",
   "execution_count": null,
   "metadata": {
    "collapsed": true
   },
   "outputs": [],
   "source": []
  }
 ],
 "metadata": {
  "anaconda-cloud": {},
  "kernelspec": {
   "display_name": "Python [conda root]",
   "language": "python",
   "name": "conda-root-py"
  },
  "language_info": {
   "codemirror_mode": {
    "name": "ipython",
    "version": 3
   },
   "file_extension": ".py",
   "mimetype": "text/x-python",
   "name": "python",
   "nbconvert_exporter": "python",
   "pygments_lexer": "ipython3",
   "version": "3.5.2"
  }
 },
 "nbformat": 4,
 "nbformat_minor": 1
}
