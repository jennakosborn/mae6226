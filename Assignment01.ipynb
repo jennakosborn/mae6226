{
 "cells": [
  {
   "cell_type": "markdown",
   "metadata": {},
   "source": [
    "# Assignment 01 - Source Distribution on an Airfoil \n",
    "\n",
    "Potential flow can represent a flow around ANY shape, not just a cylinder like we saw in Lesson03 \n",
    "\n",
    "Objective is to build the flow around a NACA0012 airfoil, using a set of sources. \n",
    "\n",
    "For non-lifting bodies, you can use a *source* distribution on the body surface, superimposed with a free stream. \n",
    "\n",
    "**Before the assignment**\n",
    "With alpha = $0^o$, \n",
    "* Where is the point of maximum pressure?\n",
    "    * we saw that the point of maximum pressure was along the center line in the front of the object, basically the point of impact with an outward normal parallel the the free stream \n",
    "* What do we call that point?\n",
    "    * we call that point the stagnation point. \n",
    "* Will the airfoil generate any lift?\n",
    "    * sure? \n",
    "    \n",
    "Loading the appropriate libraries and the data from the *resources* folder from the *lessons* folder in the **Aeropython** folder on github \n"
   ]
  },
  {
   "cell_type": "code",
   "execution_count": 1,
   "metadata": {
    "collapsed": true
   },
   "outputs": [],
   "source": [
    "import numpy \n",
    "import math\n",
    "from matplotlib import pyplot"
   ]
  },
  {
   "cell_type": "code",
   "execution_count": 9,
   "metadata": {
    "collapsed": false
   },
   "outputs": [
    {
     "data": {
      "text/plain": [
       "'/home/jennakosborn/mae6226/workspace'"
      ]
     },
     "execution_count": 9,
     "metadata": {},
     "output_type": "execute_result"
    }
   ],
   "source": [
    "pwd"
   ]
  },
  {
   "cell_type": "code",
   "execution_count": 30,
   "metadata": {
    "collapsed": false
   },
   "outputs": [],
   "source": [
    "x_sources=numpy.loadtxt('../AeroPython/lessons/resources/NACA0012_x.txt')\n",
    "y_sources=numpy.loadtxt('../AeroPython/lessons/resources/NACA0012_y.txt')\n",
    "sigmas = numpy.loadtxt('../AeroPython/lessons/resources/NACA0012_sigma.txt')"
   ]
  },
  {
   "cell_type": "markdown",
   "metadata": {},
   "source": [
    "We want to calculate 51 meshpoints in each direction and a domain of [-1,2] by [-0.5, 0.5], we will calculate the velocity components due to a set of *sources* plus a freestream with velocity of 1. We are also going to compute the pressure coefficient. \n",
    "\n",
    "Following the convention of the class for defining the variables \n",
    "\n"
   ]
  },
  {
   "cell_type": "code",
   "execution_count": 52,
   "metadata": {
    "collapsed": false
   },
   "outputs": [],
   "source": [
    "N = 51   # number of points\n",
    "\n",
    "# creating the mesh \n",
    "x_start, x_end = -1.0, 2.0 \n",
    "y_start, y_end = -0.5, 0.5 \n",
    "x = numpy.linspace(x_start, x_end, N)\n",
    "y = numpy.linspace(y_start, y_end, N)  \n",
    "\n",
    "X, Y = numpy.meshgrid(x,y)\n"
   ]
  },
  {
   "cell_type": "code",
   "execution_count": 62,
   "metadata": {
    "collapsed": false
   },
   "outputs": [
    {
     "data": {
      "text/plain": [
       "array([ 0.,  0.,  1.])"
      ]
     },
     "execution_count": 62,
     "metadata": {},
     "output_type": "execute_result"
    }
   ],
   "source": []
  },
  {
   "cell_type": "code",
   "execution_count": null,
   "metadata": {
    "collapsed": true
   },
   "outputs": [],
   "source": [
    "test"
   ]
  }
 ],
 "metadata": {
  "kernelspec": {
   "display_name": "Python [conda root]",
   "language": "python",
   "name": "conda-root-py"
  },
  "language_info": {
   "codemirror_mode": {
    "name": "ipython",
    "version": 3
   },
   "file_extension": ".py",
   "mimetype": "text/x-python",
   "name": "python",
   "nbconvert_exporter": "python",
   "pygments_lexer": "ipython3",
   "version": "3.5.2"
  }
 },
 "nbformat": 4,
 "nbformat_minor": 1
}
