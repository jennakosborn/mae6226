{
 "cells": [
  {
   "cell_type": "markdown",
   "metadata": {},
   "source": [
    "# Assignment 01 - Source Distribution on an Airfoil \n",
    "\n",
    "Potential flow can represent a flow around ANY shape, not just a cylinder like we saw in Lesson03 \n",
    "\n",
    "Objective is to build the flow around a NACA0012 airfoil, using a set of sources. \n",
    "\n",
    "For non-lifting bodies, you can use a *source* distribution on the body surface, superimposed with a free stream. \n",
    "\n",
    "**Before the assignment**\n",
    "With alpha = $0^o$, \n",
    "* Where is the point of maximum pressure?\n",
    "    * we saw that the point of maximum pressure was along the center line in the front of the object, basically the point of impact with an outward normal parallel the the free stream \n",
    "* What do we call that point?\n",
    "    * we call that point the stagnation point. \n",
    "* Will the airfoil generate any lift?\n",
    "    * sure? \n",
    "    \n",
    "Loading the appropriate libraries and the data from the *resources* folder from the *lessons* folder in the **Aeropython** folder on github \n"
   ]
  },
  {
   "cell_type": "code",
   "execution_count": 1,
   "metadata": {
    "collapsed": true
   },
   "outputs": [],
   "source": [
    "import numpy \n",
    "import math\n",
    "from matplotlib import pyplot"
   ]
  },
  {
   "cell_type": "code",
   "execution_count": 9,
   "metadata": {
    "collapsed": false
   },
   "outputs": [
    {
     "data": {
      "text/plain": [
       "'/home/jennakosborn/mae6226/workspace'"
      ]
     },
     "execution_count": 9,
     "metadata": {},
     "output_type": "execute_result"
    }
   ],
   "source": [
    "pwd"
   ]
  },
  {
   "cell_type": "code",
   "execution_count": 137,
   "metadata": {
    "collapsed": false
   },
   "outputs": [
    {
     "data": {
      "text/plain": [
       "100"
      ]
     },
     "execution_count": 137,
     "metadata": {},
     "output_type": "execute_result"
    }
   ],
   "source": [
    "x_sources=numpy.loadtxt('../AeroPython/lessons/resources/NACA0012_x.txt')\n",
    "y_sources=numpy.loadtxt('../AeroPython/lessons/resources/NACA0012_y.txt')\n",
    "sigmas = numpy.loadtxt('../AeroPython/lessons/resources/NACA0012_sigma.txt')\n",
    "numpy.size(sigmas)"
   ]
  },
  {
   "cell_type": "markdown",
   "metadata": {},
   "source": [
    "We want to calculate 51 meshpoints in each direction and a domain of [-1,2] by [-0.5, 0.5], we will calculate the velocity components due to a set of *sources* plus a freestream with velocity of 1. We are also going to compute the pressure coefficient. \n",
    "\n",
    "Following the convention of the class for defining the variables \n",
    "\n"
   ]
  },
  {
   "cell_type": "code",
   "execution_count": 52,
   "metadata": {
    "collapsed": false
   },
   "outputs": [],
   "source": [
    "N = 51   # number of points\n",
    "\n",
    "# creating the mesh \n",
    "x_start, x_end = -1.0, 2.0 \n",
    "y_start, y_end = -0.5, 0.5 \n",
    "x = numpy.linspace(x_start, x_end, N)\n",
    "y = numpy.linspace(y_start, y_end, N)  \n",
    "\n",
    "X, Y = numpy.meshgrid(x,y)\n"
   ]
  },
  {
   "cell_type": "code",
   "execution_count": 145,
   "metadata": {
    "collapsed": false
   },
   "outputs": [],
   "source": [
    "U_tot = numpy.zeros((100,51,51),dtype='float')\n",
    "V_tot = numpy.zeros((100,51,51),dtype ='float')\n",
    "\n",
    "# calculating all the individual velocity fields \n",
    "for i in range(100):\n",
    "    U_tot[i,:,:] = sigmas[i]/(2*math.pi) * (X-x_sources[i])/((X-x_sources[i])**2 + (Y-y_sources[i])**2)\n",
    "    V_tot[i,:,:] = sigmas[i]/(2*math.pi) * (Y-y_sources[i])/((X-x_sources[i])**2 + (Y-y_sources[i])**2)\n",
    "    \n",
    "\n",
    "# now summing them individually \n",
    "u = numpy.sum(U_tot,axis =0)\n",
    "v = numpy.sum(V_tot,axis =0)"
   ]
  },
  {
   "cell_type": "code",
   "execution_count": 149,
   "metadata": {
    "collapsed": false
   },
   "outputs": [
    {
     "name": "stdout",
     "output_type": "stream",
     "text": [
      "something\n"
     ]
    }
   ],
   "source": [
    "# plot the streamlines\n",
    "size = 10\n",
    "pyplot.figure(figsize=(size, (y_end-y_start)/(x_end-x_start)*size))\n",
    "pyplot.xlabel('x', fontsize=16)\n",
    "pyplot.ylabel('y', fontsize=16)\n",
    "pyplot.xlim(x_start, x_end)\n",
    "pyplot.ylim(y_start, y_end)\n",
    "\n",
    "\n",
    "print('something')"
   ]
  },
  {
   "cell_type": "code",
   "execution_count": 136,
   "metadata": {
    "collapsed": false
   },
   "outputs": [
    {
     "name": "stdout",
     "output_type": "stream",
     "text": [
      "[[[  2.   4.   6.]\n",
      "  [  8.  10.  12.]]\n",
      "\n",
      " [[  0.   0.   0.]\n",
      "  [  0.   0.   0.]]\n",
      "\n",
      " [[  0.   0.   0.]\n",
      "  [  0.   0.   0.]]]\n",
      "2\n",
      "[[[  2.   4.   6.]\n",
      "  [  8.  10.  12.]]\n",
      "\n",
      " [[  4.   8.  12.]\n",
      "  [ 16.  20.  24.]]\n",
      "\n",
      " [[  0.   0.   0.]\n",
      "  [  0.   0.   0.]]]\n",
      "4\n",
      "[[[  2.   4.   6.]\n",
      "  [  8.  10.  12.]]\n",
      "\n",
      " [[  4.   8.  12.]\n",
      "  [ 16.  20.  24.]]\n",
      "\n",
      " [[  6.  12.  18.]\n",
      "  [ 24.  30.  36.]]]\n",
      "6\n"
     ]
    }
   ],
   "source": [
    "c= numpy.zeros((3,2,3),dtype ='float')\n",
    "l = range(3)\n",
    "a = numpy.array([(1,2,3),(4,5,6)])\n",
    "b = numpy.array([2,4,6])\n",
    "for i in l:\n",
    "    c[i,:,:]= b[i]*a\n",
    "    print(c)\n",
    "    print( b[i])\n",
    "\n"
   ]
  }
 ],
 "metadata": {
  "kernelspec": {
   "display_name": "Python [conda root]",
   "language": "python",
   "name": "conda-root-py"
  },
  "language_info": {
   "codemirror_mode": {
    "name": "ipython",
    "version": 3
   },
   "file_extension": ".py",
   "mimetype": "text/x-python",
   "name": "python",
   "nbconvert_exporter": "python",
   "pygments_lexer": "ipython3",
   "version": "3.5.2"
  }
 },
 "nbformat": 4,
 "nbformat_minor": 1
}
