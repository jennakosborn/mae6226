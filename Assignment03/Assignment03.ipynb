{
 "cells": [
  {
   "cell_type": "markdown",
   "metadata": {},
   "source": [
    "# 2D Multi-element airfoil\n",
    "\n",
    "This assignment will investigate a 2D multi-element airfoil or wing section with an extended flap. This is adapting the source-vortex panel method from Lesson 11 to compute the flow around two airfoils \n",
    "\n",
    "\n",
    "**Key concepts** \n",
    "1. each airfoil has its own vortex strength \n",
    "2. the trailing edge of the airfoil must follow the Kutta condition. \n",
    "\n",
    "\n",
    "## Part 1: Williams' test case \n",
    "\n",
    "The test of the theoretical solution. We will use a more popular airfoil NACA23012 for both the main wing section and flap. \n",
    "\n",
    "**Task**: to calculate the pressure coefficient on a multi-element wing section "
   ]
  },
  {
   "cell_type": "markdown",
   "metadata": {},
   "source": [
    "### Defining the Geometry and Discretization"
   ]
  },
  {
   "cell_type": "code",
   "execution_count": 1,
   "metadata": {
    "collapsed": true
   },
   "outputs": [],
   "source": [
    "#importing the libraries and modules needed \n",
    "import numpy \n",
    "from scipy import integrate, linalg \n",
    "from matplotlib import pyplot\n",
    "\n",
    "# integrate plots into the notebook \n",
    "%matplotlib inline "
   ]
  },
  {
   "cell_type": "code",
   "execution_count": 2,
   "metadata": {
    "collapsed": false
   },
   "outputs": [],
   "source": [
    "# Importing the Data\n",
    "MainFoil = numpy.genfromtxt('MainFoil_N=100.csv', delimiter =',')\n",
    "FlapFoil = numpy.genfromtxt('FlapFoil_N=100.csv', delimiter = ',')"
   ]
  },
  {
   "cell_type": "code",
   "execution_count": 42,
   "metadata": {
    "collapsed": false
   },
   "outputs": [],
   "source": [
    "# Extracting Geometry from the Imported data\n",
    "Main_x_ends, Flap_x_ends = MainFoil[:,0], FlapFoil[:,0]\n",
    "Main_y_ends, Flap_y_ends = MainFoil[:,1], FlapFoil[:,1]\n",
    "\n",
    "N = numpy.size(Main_x_ends)-1"
   ]
  },
  {
   "cell_type": "code",
   "execution_count": 43,
   "metadata": {
    "collapsed": false
   },
   "outputs": [
    {
     "data": {
      "image/png": "[encoded data removed]",
      "text/plain": [
       "<matplotlib.figure.Figure at 0x27f80569da0>"
      ]
     },
     "metadata": {},
     "output_type": "display_data"
    }
   ],
   "source": [
    "# Checking the geometry to see if it matches the diagram\n",
    "width =10\n",
    "pyplot.figure(figsize=(width,width))\n",
    "pyplot.grid()\n",
    "pyplot.xlabel('x', fontsize=16)\n",
    "pyplot.ylabel('y', fontsize=16)\n",
    "pyplot.plot(Main_x_ends,Main_y_ends,color='k', linestyle='-', linewidth=2)\n",
    "pyplot.plot(Flap_x_ends, Flap_y_ends, color='k', linestyle='-', linewidth=2)\n",
    "pyplot.axis('scaled', adjustable='box')\n",
    "pyplot.xlim(-0.1, 1.4)\n",
    "pyplot.ylim(-0.3,0.1);"
   ]
  },
  {
   "cell_type": "markdown",
   "metadata": {},
   "source": [
    "Now that our geometry is loaded, We will calculate the velocities "
   ]
  },
  {
   "cell_type": "code",
   "execution_count": 5,
   "metadata": {
    "collapsed": false
   },
   "outputs": [],
   "source": [
    "class Panel: \n",
    "    \"\"\"\n",
    "    Contains information related to panel\n",
    "    \"\"\"\n",
    "    def __init__(self, xa, ya, xb, yb):\n",
    "        \"\"\"\n",
    "        Initialized the panel. \n",
    "        \n",
    "        sets the end-points and calculates the center-point, length, \n",
    "        and angle (with x-axis) of the panel. \n",
    "        Defines if the panel is located on the upper or lower surface \n",
    "        of the panel. \n",
    "        Initialized the source-strength, tangential velocity and pressure\n",
    "        coefficent of the panel to zero. \n",
    "        \n",
    "        Parameters:\n",
    "        -----------\n",
    "        xa: float\n",
    "            x-coordinate of the first end-point. \n",
    "        ya: float\n",
    "            y-coordinate of the first end-point. \n",
    "        xb: float \n",
    "            x-coordinate of the second end-point. \n",
    "        yb: float \n",
    "            y-coordinate of the second end-point. \n",
    "        \"\"\"\n",
    "        \n",
    "        self.xa, self.ya = xa, ya #panel starting-point \n",
    "        self.xb, self.yb = xb, yb #panel ending point \n",
    "        \n",
    "        self.xc, self.yc = (xa+xb)/2, (ya+yb)/2\n",
    "        self.length = numpy.sqrt((xb-xa)**2+(yb-ya)**2)\n",
    "        \n",
    "        # orientation of panel (angle between x-axis and panels normal)\n",
    "        if xb-xa <=0.0: \n",
    "            self.beta = numpy.arccos((yb-ya)/self.length)\n",
    "        elif xb-xa >0.0: \n",
    "            self.beta = numpy.pi + numpy.arccos(-(yb-ya)/self.length)\n",
    "        \n",
    "        # panel location \n",
    "        if self.beta <= numpy.pi:\n",
    "            self.loc = 'upper'\n",
    "        else: \n",
    "            self.loc = 'lower'\n",
    "            \n",
    "        self.sigma = 0.0\n",
    "        self.vt = 0.0\n",
    "        self.cp = 0.0"
   ]
  },
  {
   "cell_type": "code",
   "execution_count": 57,
   "metadata": {
    "collapsed": false
   },
   "outputs": [],
   "source": [
    "# Defining Panels using the points given\n",
    "Main_panels = numpy.empty(N, dtype = object)\n",
    "Flap_panels = numpy.empty(N, dtype = object)\n",
    "for i in range(N):\n",
    "    Main_panels[i] = Panel(Main_x_ends[i], Main_y_ends[i], \n",
    "                          Main_x_ends[i+1], Main_y_ends[i+1])\n",
    "    Flap_panels[i] = Panel(Flap_x_ends[i], Flap_y_ends[i], \n",
    "                           Flap_x_ends[i+1], Flap_y_ends[i+1])"
   ]
  },
  {
   "cell_type": "code",
   "execution_count": 58,
   "metadata": {
    "collapsed": false
   },
   "outputs": [
    {
     "data": {
      "image/png": "[encoded data removed]",
      "text/plain": [
       "<matplotlib.figure.Figure at 0x27f824b1e80>"
      ]
     },
     "metadata": {},
     "output_type": "display_data"
    }
   ],
   "source": [
    "#plot the discretized geometry to check if panels are defined correctly\n",
    "width= 10 \n",
    "pyplot.figure(figsize=(width,width))\n",
    "pyplot.grid()\n",
    "pyplot.xlabel('x', fontsize=16)\n",
    "pyplot.ylabel('y', fontsize=16)\n",
    "pyplot.plot(Main_x_ends,Main_y_ends,color='k', linestyle = '-', linewidth=2)\n",
    "pyplot.plot(Flap_x_ends,Flap_y_ends,color='k', linestyle = '-', linewidth=2)\n",
    "for i in range(N-1): \n",
    "    pyplot.plot(Main_panels[i].xc, Main_panels[i].yc, color = 'b', \n",
    "                    marker= 'o', markersize = 6)\n",
    "    pyplot.plot(Flap_panels[i].xc, Flap_panels[i].yc, color = 'b', \n",
    "                    marker= 'o', markersize = 6)\n",
    "pyplot.axis('scaled', adjustable='box')\n",
    "pyplot.xlim(-0.1, 1.4)\n",
    "pyplot.ylim(-0.3,0.1);"
   ]
  },
  {
   "cell_type": "markdown",
   "metadata": {},
   "source": [
    "### Free stream Conditions"
   ]
  },
  {
   "cell_type": "code",
   "execution_count": 8,
   "metadata": {
    "collapsed": false
   },
   "outputs": [],
   "source": [
    "class Freestream: \n",
    "    \"\"\"\n",
    "    Freestream conditions. \n",
    "    \"\"\"\n",
    "    def __init__(self, u_inf =1.0, alpha =0.0):\n",
    "        \"\"\"\n",
    "        Sets the freestream speed and angle (in degrees). \n",
    "        \n",
    "        Parameters\n",
    "        ----------\n",
    "        u_inf: float, optional\n",
    "            Freestream speed;\n",
    "            default: 1.0. \n",
    "        alpha: float, optional\n",
    "            Angle of attack in degrees; \n",
    "            default: 0.0. \n",
    "        \"\"\"\n",
    "        self.u_inf = u_inf\n",
    "        self.alpha = alpha*numpy.pi/180.0"
   ]
  },
  {
   "cell_type": "code",
   "execution_count": 45,
   "metadata": {
    "collapsed": false
   },
   "outputs": [],
   "source": [
    "# define freestream conditions \n",
    "freestream = Freestream(u_inf=1.0, alpha = 0.0)"
   ]
  },
  {
   "cell_type": "markdown",
   "metadata": {},
   "source": [
    "### Flow tangency boundary condition, Enforcing Kutta condition, and Building the linear system"
   ]
  },
  {
   "cell_type": "code",
   "execution_count": 59,
   "metadata": {
    "collapsed": true
   },
   "outputs": [],
   "source": [
    "# define the function for the integral part of the equation \n",
    "def integral(x, y, panel, dxdk, dydk): \n",
    "    \"\"\"\n",
    "    Evaluates the contribution from a panel at a given point. \n",
    "    \n",
    "    Parameters \n",
    "    ----------\n",
    "    x: float\n",
    "        x-coordinate of target point. \n",
    "    y: float \n",
    "        y-coodrinate of target point. \n",
    "    panel: Panel object \n",
    "        Panel whose contribution is evaluated. \n",
    "    dxdk: float \n",
    "        Value of the derivative of x in a certain direction. \n",
    "    dydk: float \n",
    "        Value of the derivative of y in a certain direction. \n",
    "    \n",
    "    Returns \n",
    "    -------\n",
    "    Contribution fro the panel at a given point (x, y)\n",
    "    \"\"\"\n",
    "    def integrand(s): \n",
    "        return ( ((x - (panel.xa - numpy.sin(panel.beta)*s))*dxdk\n",
    "                  +(y - (panel.ya + numpy.cos(panel.beta)*s))*dydk)\n",
    "               / ((x - (panel.xa - numpy.sin(panel.beta)*s))**2\n",
    "                 + (y - (panel.ya + numpy.cos(panel.beta)*s))**2) )\n",
    "    return integrate.quad(integrand, 0.0, panel.length)[0]"
   ]
  },
  {
   "cell_type": "markdown",
   "metadata": {},
   "source": [
    "Defining the source contribution normal function"
   ]
  },
  {
   "cell_type": "code",
   "execution_count": 11,
   "metadata": {
    "collapsed": true
   },
   "outputs": [],
   "source": [
    "def source_contribution_normal(panels): \n",
    "    \"\"\"\n",
    "    Builds the source contribution matrix for the normal velocity. \n",
    "    \n",
    "    Parameters\n",
    "    -----------\n",
    "    panels: 1D array of Panel objects\n",
    "        list of panels. \n",
    "    \n",
    "    Returns \n",
    "    -------\n",
    "    A: 2D Numpy array of floats\n",
    "        Source contribution matrix\n",
    "    \"\"\"\n",
    "    A = numpy.empty((panels.size, panels.size), dtype = float)\n",
    "    # source contribution on a panel from itself \n",
    "    numpy.fill_diagonal(A, 0.5)\n",
    "    # source contribution on a panel from others \n",
    "    for i, panel_i in enumerate(panels): \n",
    "        for j, panel_j in enumerate(panels):\n",
    "            if i != j:\n",
    "                A[i,j] = 0.5/numpy.pi*integral(panel_i.xc, panel_i.yc,\n",
    "                                              panel_j, \n",
    "                                              numpy.cos(panel_i.beta), \n",
    "                                              numpy.sin(panel_i.beta))\n",
    "    return A"
   ]
  },
  {
   "cell_type": "code",
   "execution_count": 60,
   "metadata": {
    "collapsed": true
   },
   "outputs": [],
   "source": [
    "# Define the vortex normal contribution\n",
    "def vortex_contribution_normal(panels):\n",
    "    \"\"\"\n",
    "    Builds the vortex contribution matrix for the normal velocity.\n",
    "    \n",
    "    Parameters\n",
    "    ----------\n",
    "    panels: 1D array of Panel objects\n",
    "        List of panels.\n",
    "    \n",
    "    Returns\n",
    "    -------\n",
    "    A: 2D Numpy array of floats\n",
    "        Vortex contribution matrix.\n",
    "    \"\"\"\n",
    "    A = numpy.empty((panels.size, panels.size), dtype=float)\n",
    "    # vortex contribution on a panel from itself\n",
    "    numpy.fill_diagonal(A, 0.0)\n",
    "    # vortex contribution on a panel from others\n",
    "    for i, panel_i in enumerate(panels):\n",
    "        for j, panel_j in enumerate(panels):\n",
    "            if i != j:\n",
    "                A[i, j] = -0.5/numpy.pi*integral(panel_i.xc, panel_i.yc, \n",
    "                                                 panel_j,\n",
    "                                                 numpy.sin(panel_i.beta),\n",
    "                                                 -numpy.cos(panel_i.beta))\n",
    "    return A"
   ]
  },
  {
   "cell_type": "code",
   "execution_count": 48,
   "metadata": {
    "collapsed": false
   },
   "outputs": [],
   "source": [
    "## Defining the panels\n",
    "\n",
    "# Combining the panels for source calculation \n",
    "All_panels = numpy.append(Main_panels, Flap_panels)\n",
    "\n",
    "#Defining source contribution \n",
    "A_source = source_contribution_normal(All_panels)\n",
    "\n",
    "# Defining the vortex contribution\n",
    "B_vortex = vortex_contribution_normal(All_panels)\n",
    "\n",
    "# Breaking the individual for kutta condition\n"
   ]
  },
  {
   "cell_type": "code",
   "execution_count": 61,
   "metadata": {
    "collapsed": false
   },
   "outputs": [],
   "source": [
    "def kutta_condition(A_source, B_vortex):\n",
    "    \"\"\"\n",
    "    Builds the Kutta condition array.\n",
    "    \n",
    "    Parameters\n",
    "    ----------\n",
    "    A_source: 2D Numpy array of floats\n",
    "        Source contribution matrix for the normal velocity.\n",
    "    B_vortex: 2D Numpy array of floats\n",
    "        Vortex contribution matrix for the normal velocity.\n",
    "    \n",
    "    Returns\n",
    "    -------\n",
    "    b: 1D Numpy array of floats\n",
    "        The left-hand side of the Kutta-condition equation.\n",
    "    \"\"\"\n",
    "    b = numpy.empty((2,A_source.shape[0]+2), dtype=float)\n",
    "\n",
    "    A = numpy.empty((A_source.shape[0], A_source.shape[0]+2), dtype=float)\n",
    "    # matrix of source contribution on tangential velocity\n",
    "    # is the same than\n",
    "    # matrix of vortex contribution on normal velocity\n",
    "    A[:, :-2] = B_vortex\n",
    "    # matrix of vortex contribution on tangential velocity\n",
    "    # is the opposite of\n",
    "    # matrix of source contribution on normal velocity\n",
    "    A[:, -2] = -numpy.sum(A_source[:,:N], axis=1)\n",
    "    A[:, -1] = -numpy.sum(A_source[:,N:], axis=1)\n",
    "    # matrix of source contribution on tangential velocity\n",
    "    # is the same than\n",
    "    # matrix of vortex contribution on normal velocity\n",
    "    b[0,:] = A[0, :] + A[N-1, :]\n",
    "    b[1,:] = A[N, :] + A[-1, :]\n",
    "\n",
    "    return b"
   ]
  },
  {
   "cell_type": "code",
   "execution_count": 62,
   "metadata": {
    "collapsed": false
   },
   "outputs": [],
   "source": [
    "def build_singularity_matrix(A_source, B_vortex):\n",
    "    \"\"\"\n",
    "    Builds the left-hand side matrix of the system\n",
    "    arising from source and vortex contributions.\n",
    "    \n",
    "    Parameters\n",
    "    ----------\n",
    "    A_source: 2D Numpy array of floats\n",
    "        Source contribution matrix for the normal velocity.\n",
    "    B_vortex: 2D Numpy array of floats\n",
    "        Vortex contribution matrix for the normal velocity.\n",
    "    \n",
    "    Returns\n",
    "    -------\n",
    "    A:  2D Numpy array of floats\n",
    "        Matrix of the linear system.\n",
    "    \"\"\"\n",
    "    A = numpy.empty((A_source.shape[0]+2, A_source.shape[1]+2), dtype=float)\n",
    "    # source contribution matrix\n",
    "    A[:-2, :-2] = A_source\n",
    "    # vortex contribution array\n",
    "    A[:-2, -2] = numpy.sum(B_vortex[:,:N], axis=1)\n",
    "    A[:-2, -1] = numpy.sum(B_vortex[:,N:], axis=1)\n",
    "    # Kutta condition array\n",
    "    A[-2:, :] = kutta_condition(A_source, B_vortex)\n",
    "\n",
    "\n",
    "    return A"
   ]
  },
  {
   "cell_type": "code",
   "execution_count": 63,
   "metadata": {
    "collapsed": false
   },
   "outputs": [],
   "source": [
    "def build_freestream_rhs(panels, freestream):\n",
    "    \"\"\"\n",
    "    Builds the right-hand side of the system \n",
    "    arising from the freestream contribution.\n",
    "    \n",
    "    Parameters\n",
    "    ----------\n",
    "    panels: 1D array of Panel objects\n",
    "        List of panels.\n",
    "    freestream: Freestream object\n",
    "        Freestream conditions.\n",
    "    \n",
    "    Returns\n",
    "    -------\n",
    "    b: 1D Numpy array of floats\n",
    "        Freestream contribution on each panel and on the Kutta condition.\n",
    "    \"\"\"\n",
    "    b = numpy.empty(panels.size+2,dtype=float)\n",
    "    # freestream contribution on each panel\n",
    "    for i, panel in enumerate(panels):\n",
    "        b[i] = -freestream.u_inf * numpy.cos(freestream.alpha - panel.beta)\n",
    "    # freestream contribution on the Kutta condition\n",
    "    for i, panel in enumerate(panels):\n",
    "        b[i] = - freestream.u_inf * numpy.cos(freestream.alpha - panel.beta)\n",
    "    \n",
    "    b[-2] = -freestream.u_inf*( numpy.sin(freestream.alpha-panels[0].beta)\n",
    "                              +numpy.sin(freestream.alpha-panels[N-1].beta) )\n",
    "    b[-1] = -freestream.u_inf*( numpy.sin(freestream.alpha-panels[N].beta)\n",
    "                              +numpy.sin(freestream.alpha-panels[-1].beta) )\n",
    "    return b"
   ]
  },
  {
   "cell_type": "code",
   "execution_count": 66,
   "metadata": {
    "collapsed": false
   },
   "outputs": [],
   "source": [
    "# define the matrices\n",
    "A = build_singularity_matrix(A_source, B_vortex)\n",
    "b = build_freestream_rhs(All_panels, freestream)"
   ]
  },
  {
   "cell_type": "code",
   "execution_count": 67,
   "metadata": {
    "collapsed": false
   },
   "outputs": [
    {
     "name": "stdout",
     "output_type": "stream",
     "text": [
      "--> sum of source/sink strengths: -0.00174836054324\n"
     ]
    }
   ],
   "source": [
    "# Solve the linear equations \n",
    "sigmas = numpy.linalg.solve(A,b)\n",
    "\n",
    "for i, panel in enumerate(All_panels):\n",
    "    panel.sigma = sigmas[i]\n",
    "gamma = sigmas[-2:]\n",
    "gamma\n",
    "\n",
    "#Accuracy check sum of the sources should be zero\n",
    "accuracy = sum([panel.sigma*panel.length for panel in All_panels])\n",
    "print('--> sum of source/sink strengths:', accuracy)\n"
   ]
  },
  {
   "cell_type": "code",
   "execution_count": 68,
   "metadata": {
    "collapsed": false
   },
   "outputs": [],
   "source": [
    "def compute_tangential_velocity(panels, freestream, gamma, A_source, B_vortex):\n",
    "    \"\"\"\n",
    "    Computes the tangential surface velocity.\n",
    "    \n",
    "    Parameters\n",
    "    ----------\n",
    "    panels: 1D array of Panel objects\n",
    "        List of panels.\n",
    "    freestream: Freestream object\n",
    "        Freestream conditions.\n",
    "    gamma: float\n",
    "        Circulation density.\n",
    "    A_source: 2D Numpy array of floats\n",
    "        Source contribution matrix for the normal velocity.\n",
    "    B_vortex: 2D Numpy array of floats\n",
    "        Vortex contribution matrix for the normal velocity.\n",
    "    \"\"\"\n",
    "    A = numpy.empty((panels.size, panels.size+2), dtype=float)\n",
    "    # matrix of source contribution on tangential velocity\n",
    "    # is the same than\n",
    "    # matrix of vortex contribution on normal velocity\n",
    "    A[:, :-2] = B_vortex\n",
    "    # matrix of vortex contribution on tangential velocity\n",
    "    # is the opposite of\n",
    "    # matrix of source contribution on normal velocity\n",
    "    A[:, -2] = -numpy.sum(A_source[:,:N], axis=1)\n",
    "    A[:, -1] = -numpy.sum(A_source[:,N:], axis=1)\n",
    "    # freestream contribution\n",
    "    b = freestream.u_inf*numpy.sin([freestream.alpha-panel.beta \n",
    "                                    for panel in panels])\n",
    "    \n",
    "    strengths = numpy.append([panel.sigma for panel in panels], gamma)\n",
    "    \n",
    "    vt = numpy.dot(A, strengths) + b\n",
    "    \n",
    "    for i, panel in enumerate(panels):\n",
    "        panel.vt = vt[i]"
   ]
  },
  {
   "cell_type": "code",
   "execution_count": 69,
   "metadata": {
    "collapsed": false
   },
   "outputs": [],
   "source": [
    "# tangential velocity at each panel center.\n",
    "compute_tangential_velocity(All_panels, freestream, gamma, \n",
    "                            A_source, B_vortex)"
   ]
  },
  {
   "cell_type": "code",
   "execution_count": 70,
   "metadata": {
    "collapsed": false
   },
   "outputs": [],
   "source": [
    "def compute_pressure_coefficient(panels, freestream):\n",
    "    \"\"\"\n",
    "    Computes the surface pressure coefficients.\n",
    "    \n",
    "    Parameters\n",
    "    ----------\n",
    "    panels: 1D array of Panel objects\n",
    "        List of panels.\n",
    "    freestream: Freestream object\n",
    "        Freestream conditions.\n",
    "    \"\"\"\n",
    "    for panel in panels:\n",
    "        panel.cp = 1.0 - (panel.vt/freestream.u_inf)**2"
   ]
  },
  {
   "cell_type": "code",
   "execution_count": 71,
   "metadata": {
    "collapsed": false
   },
   "outputs": [
    {
     "data": {
      "image/png": "[encoded data removed]",
      "text/plain": [
       "<matplotlib.figure.Figure at 0x27f8272ba90>"
      ]
     },
     "metadata": {},
     "output_type": "display_data"
    }
   ],
   "source": [
    "# surface pressure coefficient\n",
    "compute_pressure_coefficient(All_panels, freestream)\n",
    "\n",
    "# plot surface pressure coefficient\n",
    "pyplot.figure(figsize=(10, 6))\n",
    "pyplot.grid()\n",
    "pyplot.xlabel('$x$', fontsize=16)\n",
    "pyplot.ylabel('$C_p$', fontsize=16)\n",
    "pyplot.plot([panel.xc for panel in All_panels if panel.loc == 'upper'],\n",
    "            [panel.cp for panel in All_panels if panel.loc == 'upper'],\n",
    "            label='upper surface',\n",
    "            color='r', linestyle='-', linewidth=2, marker='o', markersize=6)\n",
    "pyplot.plot([panel.xc for panel in All_panels if panel.loc == 'lower'],\n",
    "            [panel.cp for panel in All_panels if panel.loc == 'lower'],\n",
    "            label= 'lower surface',\n",
    "            color='b', linestyle='-', linewidth=1, marker='o', markersize=6)\n",
    "pyplot.legend(loc='best', prop={'size':16})\n",
    "pyplot.xlim(-0.1, 1.4)\n",
    "pyplot.ylim(5.0, -15.0)\n",
    "pyplot.title('Number of panels: {}'.format(All_panels.size), fontsize=16);"
   ]
  },
  {
   "cell_type": "code",
   "execution_count": null,
   "metadata": {
    "collapsed": true
   },
   "outputs": [],
   "source": []
  },
  {
   "cell_type": "code",
   "execution_count": 74,
   "metadata": {
    "collapsed": false
   },
   "outputs": [
    {
     "name": "stdout",
     "output_type": "stream",
     "text": [
      "Pressure coefficient on 3rd Panel:  -0.955701172981\n"
     ]
    }
   ],
   "source": [
    "# Question 1 : What is the pressure coefficient on the 3rd panel on the\n",
    "# main airfoil? \n",
    "print('Pressure coefficient on 3rd Panel: ', All_panels[2].cp)"
   ]
  },
  {
   "cell_type": "code",
   "execution_count": 75,
   "metadata": {
    "collapsed": false
   },
   "outputs": [
    {
     "name": "stdout",
     "output_type": "stream",
     "text": [
      "Pressure coefficient on 10th Panel:  -0.279918398369\n"
     ]
    }
   ],
   "source": [
    "# Question 2: What is the pressure coefficnet on the 10th panel on the \n",
    "# flap airfoil? \n",
    "print('Pressure coefficient on 10th Panel: ',All_panels[N+9].cp)"
   ]
  },
  {
   "cell_type": "code",
   "execution_count": 76,
   "metadata": {
    "collapsed": false
   },
   "outputs": [
    {
     "name": "stdout",
     "output_type": "stream",
     "text": [
      "Lift on the body is:  3.69771447686\n",
      "Drag on the body is:  0.0107914032459\n"
     ]
    }
   ],
   "source": [
    "# Questions 3: What is the value of lift?\n",
    "Lift, Drag = 0.0,0.0\n",
    "for panel in All_panels:\n",
    "    Lift -= panel.cp*numpy.sin(panel.beta)*panel.length\n",
    "    Drag += panel.cp*numpy.cos(panel.beta)*panel.length\n",
    "\n",
    "print('Lift on the body is: ', Lift)\n",
    "print('Drag on the body is: ', Drag)"
   ]
  },
  {
   "cell_type": "code",
   "execution_count": 77,
   "metadata": {
    "collapsed": false
   },
   "outputs": [
    {
     "name": "stdout",
     "output_type": "stream",
     "text": [
      "sum of singularity strengths: -0.001748\n"
     ]
    }
   ],
   "source": [
    "# Calculate the accuracy of the model\n",
    "accuracy= sum([panel.sigma*panel.length for panel in All_panels])\n",
    "print('sum of singularity strengths: {:0.6f}' .format(accuracy))"
   ]
  },
  {
   "cell_type": "code",
   "execution_count": 78,
   "metadata": {
    "collapsed": false
   },
   "outputs": [
    {
     "name": "stdout",
     "output_type": "stream",
     "text": [
      "Absolute Error:  0.0408855231392\n"
     ]
    }
   ],
   "source": [
    "# Checking the error of the model\n",
    "Lift_theo = 3.7386\n",
    "Drag_theo = 0.0 \n",
    "\n",
    "error = Lift_theo-Lift\n",
    "print('Absolute Error: ', error)"
   ]
  },
  {
   "cell_type": "code",
   "execution_count": 79,
   "metadata": {
    "collapsed": false
   },
   "outputs": [
    {
     "name": "stdout",
     "output_type": "stream",
     "text": [
      "The improvement of error is  0.5067025440313112\n"
     ]
    }
   ],
   "source": [
    "AbsError100=  0.04088\n",
    "AbsError200 = 0.020166\n",
    "\n",
    "Improv = (AbsError100-AbsError200)/AbsError100\n",
    "print('The improvement of error is ', Improv)"
   ]
  },
  {
   "cell_type": "markdown",
   "metadata": {},
   "source": [
    "## Part 2: Wenzinger's Test Case\n",
    "\n",
    "Using the imported 150 panels on each foil\n",
    "\n",
    "We can rotate the flap around point (xc, yc)"
   ]
  },
  {
   "cell_type": "code",
   "execution_count": 80,
   "metadata": {
    "collapsed": true
   },
   "outputs": [],
   "source": [
    "# Defining variables given\n",
    "xc, yc = 1.03, -0.054    #rotations matrix \n",
    "N = 150                  # number of panels \n",
    "\n",
    "# Importing the geometries \n",
    "Main = numpy.genfromtxt('NACA23012_MainFoil.csv', delimiter = ',')\n",
    "Flap = numpy.genfromtxt('NACA23012_FlapFoil.csv', delimiter = ',')\n",
    "\n",
    "# Defining the end points \n",
    "Main_x, Main_y = Main[:,0], Main[:,1]\n",
    "Flap_x, Flap_y = Flap[:,0], Flap[:,1]"
   ]
  },
  {
   "cell_type": "code",
   "execution_count": 82,
   "metadata": {
    "collapsed": true
   },
   "outputs": [],
   "source": [
    "def rotate_flap(x, y, xc, yc, theta): \n",
    "    \"\"\"\n",
    "    Rotates the flap around a certain point\n",
    "    \n",
    "    Parameters\n",
    "    ----------\n",
    "    Returns\n",
    "    -------\n",
    "    \"\"\"\n",
    "    theta = theta*numpy.pi/180.0\n",
    "    x_new = ( xc + (x-xc)*numpy.cos(theta) -\n",
    "             (y - yc)*numpy.sin(theta) )\n",
    "    y_new = (yc + (x - xc)*numpy.sin(theta) +\n",
    "            (y - yc)*numpy.cos(theta) )\n",
    "    \n",
    "    return x_new, y_new"
   ]
  },
  {
   "cell_type": "code",
   "execution_count": 99,
   "metadata": {
    "collapsed": true
   },
   "outputs": [],
   "source": [
    "def calculate_lift(Main_panels, Fx, Fy, xc, yc, AoA, theta):\n",
    "    \"\"\"\n",
    "    \"\"\"\n",
    "    \n",
    "    Fx_new, Fy_new = rotate_flap(Fx, Fy, xc, yc, theta)\n",
    "    \n",
    "\n",
    "    Flap_panels = numpy.empty(N, dtype=object)\n",
    "\n",
    "    for i in range(N):\n",
    "        Flap_panels[i] = Panel(Fx_new[i], Fy_new[i], \n",
    "                          Fx_new[i+1], Fy_new[i+1])\n",
    "\n",
    "    panels = numpy.append(Main_panels, Flap_panels)\n",
    "    \n",
    "    freestream = Freestream(u_inf, AoA)\n",
    "        \n",
    "    A_s = source_contribution_normal(panels)\n",
    "    B_v = vortex_contribution_normal(panels)\n",
    "        \n",
    "    A = build_singularity_matrix(A_s, B_v)\n",
    "    b = build_freestream_rhs(panels, freestream)\n",
    "        \n",
    "    sigmas = numpy.linalg.solve(A,b)\n",
    "        \n",
    "    for i, panel in enumerate(panels):\n",
    "        panel.sigma = sigmas[i]\n",
    "    gamma = sigmas[-2:]\n",
    "        \n",
    "    compute_tangential_velocity(panels,freestream, gamma, A_s, B_v)\n",
    "    compute_pressure_coefficient(panels, freestream)\n",
    "        \n",
    "    Lift =0.0    \n",
    "    for panel in panels: \n",
    "        Lift -= panel.cp*numpy.sin(panel.beta)*panel.length\n",
    "    \n",
    "    return Lift    "
   ]
  },
  {
   "cell_type": "code",
   "execution_count": 100,
   "metadata": {
    "collapsed": true
   },
   "outputs": [],
   "source": [
    "def Bisection_method_AoA(Main_panels, Fx, Fy, xc, yc, theta,\n",
    "                         alpha1, alpha2, tol ):\n",
    "    \"\"\"\n",
    "    Finds the Angle of attack with zero lift iteratively. \n",
    "    \n",
    "    Parameters: \n",
    "    -----------\n",
    "    panels: Panel object \n",
    "    alpha1: float\n",
    "        beginning of range for search (in degrees)\n",
    "    alpha2: float \n",
    "        end of range for search (in degrees)\n",
    "    tol: float \n",
    "        tolerance of search\n",
    "    \n",
    "    Returns\n",
    "    -------\n",
    "    Angle: float \n",
    "        Angle of attack with zero lift \n",
    "    \"\"\"\n",
    "    \n",
    "    n = 1 \n",
    "    Lift_init = calculate_lift(Main_panels, Fx, Fy, xc, yc,\n",
    "                                alpha1, theta)\n",
    "    while n < 100: \n",
    "        alpha = 0.5*(alpha1+alpha2)\n",
    "        Lift = calculate_lift(Main_panels, Fx, Fy, xc, yc, alpha,theta)\n",
    "        print('Alpha: ', alpha, 'Lift: ', Lift, '# of iterations: ', n)\n",
    "        \n",
    "        if abs(alpha2-alpha1)/2 < tol: \n",
    "            print('Found it!')\n",
    "            break\n",
    "        \n",
    "        \n",
    "        if numpy.sign(Lift) == numpy.sign(Lift_init):\n",
    "            alpha1 = alpha\n",
    "            Lift_init=Lift\n",
    "        else:\n",
    "            alpha2 = alpha\n",
    "    \n",
    "        n = n+1\n",
    "    return alpha"
   ]
  },
  {
   "cell_type": "code",
   "execution_count": 101,
   "metadata": {
    "collapsed": true
   },
   "outputs": [],
   "source": [
    "def Bisection_method_flap(Main_panels, fx, fy, theta1, \n",
    "                          theta2, xc, yc, AoA, tol): \n",
    "    \"\"\"\n",
    "    Calculates the flap angle where zero angle of attack \n",
    "    \n",
    "    Parameters\n",
    "    main_x: 1D numpy array\n",
    "        x-coordinates of the end points of the main airfoil panels\n",
    "    main_y: 1D numpy array\n",
    "        y-coordinates of the end points of the main airfoil panels \n",
    "    flap_x: 1D numpy array \n",
    "        x-coordinates of the end points of the flap airfoil panels\n",
    "    flap_y: 1D numpy array \n",
    "        y-coordinates of the end points of the flap airfoil panels\n",
    "    theta1: float \n",
    "        start angle of the range of search range\n",
    "    theta2: float \n",
    "        end angle of search range\n",
    "    AoA: float \n",
    "        Angle of attack (default=0)\n",
    "    tol: float\n",
    "        tolerance of iterative search\n",
    "        \n",
    "    Returns\n",
    "    -------\n",
    "    theta: float\n",
    "        angle of the flap with zero angle of attack \n",
    "    \"\"\"   \n",
    "    Lift_init = calculate_lift(Main_panels, fx, fy, xc, yc, AoA, theta1)\n",
    "    \n",
    "    Mpan = numpy.empty(N,dtype=object)\n",
    "    Fpan = numpy.empty(N, dtype=object)\n",
    "    \n",
    "    n=1\n",
    "    while n < 100: \n",
    "        theta = 0.5*(theta1+theta2)\n",
    "        Lift = calculate_lift(Main_panels, fx, fy, xc, yc, AoA, theta)\n",
    "        print('Theta: ', theta, 'Lift: ', Lift, '# of iterations: ', n)\n",
    "        \n",
    "        if abs(theta2-theta1)/2 < tol:\n",
    "            print('Found it!')\n",
    "            break\n",
    "        \n",
    "        if numpy.sign(Lift) == numpy.sign(Lift_init):\n",
    "            theta1 = theta\n",
    "            Lift_init=Lift\n",
    "        else:\n",
    "            theta2 = theta\n",
    "    \n",
    "        n = n+1\n",
    "    return theta"
   ]
  },
  {
   "cell_type": "code",
   "execution_count": 102,
   "metadata": {
    "collapsed": true
   },
   "outputs": [],
   "source": [
    "Main_panels = numpy.empty(N, dtype=object)\n",
    "for i in range(N):\n",
    "    Main_panels[i] = Panel(Main_x[i], Main_y[i],\n",
    "                           Main_x[i+1], Main_y[i+1])\n",
    "    \n",
    "theta = -20.0\n",
    "u_inf = 1.0\n",
    "alpha1, alpha2 = -14.0, 0.0\n",
    "\n",
    "Lift_init = 0.0\n",
    "Lift = 0.0"
   ]
  },
  {
   "cell_type": "code",
   "execution_count": 96,
   "metadata": {
    "collapsed": false
   },
   "outputs": [
    {
     "name": "stdout",
     "output_type": "stream",
     "text": [
      "Alpha:  -7.0 Lift:  0.548338462552 # of iterations:  1\n",
      "Alpha:  -10.5 Lift:  0.0634989062041 # of iterations:  2\n",
      "Alpha:  -12.25 Lift:  -0.175476948754 # of iterations:  3\n",
      "Alpha:  -11.375 Lift:  -0.0563695467263 # of iterations:  4\n",
      "Alpha:  -10.9375 Lift:  0.00347652142469 # of iterations:  5\n",
      "Alpha:  -11.15625 Lift:  -0.0264694255558 # of iterations:  6\n",
      "Alpha:  -11.046875 Lift:  -0.0115020712276 # of iterations:  7\n",
      "Alpha:  -10.9921875 Lift:  -0.00401416604986 # of iterations:  8\n",
      "Alpha:  -10.96484375 Lift:  -0.000269168393877 # of iterations:  9\n",
      "Alpha:  -10.951171875 Lift:  0.00160359020835 # of iterations:  10\n",
      "Alpha:  -10.9580078125 Lift:  0.000667189303812 # of iterations:  11\n",
      "Found it!\n"
     ]
    }
   ],
   "source": [
    "#Question 01: Wjat os the angle of attack that give zero lift with \n",
    "# tail angled 20 degrees?\n",
    "AoA = Bisection_method_AoA(Main_panels, Flap_x, Flap_y, \n",
    "                                       xc, yc, theta,\n",
    "                                       alpha1, alpha2, 0.01)"
   ]
  },
  {
   "cell_type": "code",
   "execution_count": 105,
   "metadata": {
    "collapsed": false
   },
   "outputs": [
    {
     "name": "stdout",
     "output_type": "stream",
     "text": [
      "Theta:  0.0 Lift:  0.271910644469 # of iterations:  1\n",
      "Theta:  5.0 Lift:  -0.0292849385314 # of iterations:  2\n",
      "Theta:  2.5 Lift:  0.120733957722 # of iterations:  3\n",
      "Theta:  3.75 Lift:  0.0455783940188 # of iterations:  4\n",
      "Theta:  4.375 Lift:  0.00811001236125 # of iterations:  5\n",
      "Theta:  4.6875 Lift:  -0.010596666081 # of iterations:  6\n",
      "Theta:  4.53125 Lift:  -0.00124562455172 # of iterations:  7\n",
      "Theta:  4.453125 Lift:  0.0034316198606 # of iterations:  8\n",
      "Theta:  4.4921875 Lift:  0.00109285409623 # of iterations:  9\n",
      "Theta:  4.51171875 Lift:  -7.64211232741e-05 # of iterations:  10\n",
      "Theta:  4.501953125 Lift:  0.000508207513369 # of iterations:  11\n",
      "Found it!\n"
     ]
    }
   ],
   "source": [
    "# Question 02: What is the flap deflection angle that gives zero lift \n",
    "# at zero angle of attack? \n",
    "\n",
    "theta1, theta2 = -10.0, 10.0     # search range\n",
    "AoA = 0.0\n",
    "theta = Bisection_method_flap(Main_panels, Flap_x, Flap_y, theta1, \n",
    "                          theta2, xc, yc, AoA, 0.01)"
   ]
  },
  {
   "cell_type": "code",
   "execution_count": 106,
   "metadata": {
    "collapsed": true
   },
   "outputs": [],
   "source": [
    "# Question03: How much slower?\n",
    "AoA = 4.0\n",
    "\n",
    "Lift = calculate_lift(Main_panels, Flap_x, Flap_y, xc, yc, AoA, 0.0)"
   ]
  },
  {
   "cell_type": "code",
   "execution_count": 120,
   "metadata": {
    "collapsed": false
   },
   "outputs": [],
   "source": [
    "Lift5 = calculate_lift(Main_panels, Flap_x, Flap_y, xc, yc, AoA, -5.0)\n",
    "Lift10 = calculate_lift(Main_panels, Flap_x, Flap_y, xc, yc, AoA, -10.0)\n",
    "Lift15 = calculate_lift(Main_panels, Flap_x, Flap_y, xc, yc, AoA, -15.0)"
   ]
  },
  {
   "cell_type": "code",
   "execution_count": 126,
   "metadata": {
    "collapsed": false
   },
   "outputs": [
    {
     "name": "stdout",
     "output_type": "stream",
     "text": [
      "Percentage Difference for flap angle  -5 is:  14.5141136357\n",
      "Percentage Difference for flap angle  -10 is:  24.2124090158\n",
      "Percentage Difference for flap angle  -15 is:  31.2809103274\n"
     ]
    }
   ],
   "source": [
    "Lifts = [Lift5, Lift10, Lift15]\n",
    "thetas = [-5, -10, -15]\n",
    "for i in range(3):\n",
    "    diff = (1 - 1/numpy.sqrt(Lifts[i]/Lift))*100\n",
    "    print('Percentage Difference for flap angle ', thetas[i], \n",
    "         'is: ', diff)"
   ]
  }
 ],
 "metadata": {
  "anaconda-cloud": {},
  "kernelspec": {
   "display_name": "Python 3",
   "language": "python",
   "name": "python3"
  },
  "language_info": {
   "codemirror_mode": {
    "name": "ipython",
    "version": 3
   },
   "file_extension": ".py",
   "mimetype": "text/x-python",
   "name": "python",
   "nbconvert_exporter": "python",
   "pygments_lexer": "ipython3",
   "version": "3.6.0"
  }
 },
 "nbformat": 4,
 "nbformat_minor": 1
}
