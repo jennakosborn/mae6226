{
 "cells": [
  {
   "cell_type": "markdown",
   "metadata": {},
   "source": [
    "# 2D Multi-element airfoil\n",
    "\n",
    "This assignment will investigate a 2D multi-element airfoil or wing section with an extended flap. This is adapting the source-vortex panel method from Lesson 11 to compute the flow around two airfoils \n",
    "\n",
    "\n",
    "**Key concepts** \n",
    "1. each airfoil has its own vortex strength \n",
    "2. the trailing edge of the airfoil must follow the Kutta condition. \n",
    "\n",
    "\n",
    "## Part 1: Williams' test case \n",
    "\n",
    "The test of the theoretical solution. We will use a more popular airfoil NACA23012 for both the main wing section and flap. \n",
    "\n",
    "**Task**: to calculate the pressure coefficient on a multi-element wing section "
   ]
  },
  {
   "cell_type": "markdown",
   "metadata": {},
   "source": [
    "### Defining the Geometry and Discretization"
   ]
  },
  {
   "cell_type": "code",
   "execution_count": 4,
   "metadata": {
    "collapsed": true
   },
   "outputs": [],
   "source": [
    "#importing the libraries and modules needed \n",
    "import os\n",
    "import csv\n",
    "import numpy \n",
    "from scipy import integrate, linalg \n",
    "from matplotlib import pyplot\n",
    "\n",
    "# integrate plots into the notebook \n",
    "%matplotlib inline "
   ]
  },
  {
   "cell_type": "code",
   "execution_count": 55,
   "metadata": {
    "collapsed": false
   },
   "outputs": [],
   "source": [
    "# Importing the Data\n",
    "MainFoil = numpy.genfromtxt('MainFoil_N=50.csv', delimiter =',')\n",
    "FlapFoil = numpy.genfromtxt('FlapFoil_N=50.csv', delimiter = ',')"
   ]
  },
  {
   "cell_type": "code",
   "execution_count": 81,
   "metadata": {
    "collapsed": false
   },
   "outputs": [],
   "source": [
    "# Extracting Geometry from the Imported data\n",
    "Main_x_ends, Flap_x_ends = MainFoil[:,0], FlapFoil[:,0]\n",
    "Main_y_ends, Flap_y_ends = MainFoil[:,1], FlapFoil[:,1]\n",
    "\n",
    "N = numpy.size(Main_x_ends)"
   ]
  },
  {
   "cell_type": "code",
   "execution_count": 82,
   "metadata": {
    "collapsed": false
   },
   "outputs": [
    {
     "data": {
      "image/png": "[encoded data removed]",
      "text/plain": [
       "<matplotlib.figure.Figure at 0x7fd5299d9a58>"
      ]
     },
     "metadata": {},
     "output_type": "display_data"
    }
   ],
   "source": [
    "# Checking the geometry to see if it matches the diagram\n",
    "width =10\n",
    "pyplot.figure(figsize=(width,width))\n",
    "pyplot.grid()\n",
    "pyplot.xlabel('x', fontsize=16)\n",
    "pyplot.ylabel('y', fontsize=16)\n",
    "pyplot.plot(Main_x_ends,Main_y_ends,color='k', linestyle='-', linewidth=2)\n",
    "pyplot.plot(Flap_x_ends, Flap_y_ends, color='k', linestyle='-', linewidth=2)\n",
    "pyplot.axis('scaled', adjustable='box')\n",
    "pyplot.xlim(-0.1, 1.4)\n",
    "pyplot.ylim(-0.3,0.1);"
   ]
  },
  {
   "cell_type": "markdown",
   "metadata": {},
   "source": [
    "Now that our geometry is loaded, We will calculate the velocities "
   ]
  },
  {
   "cell_type": "code",
   "execution_count": 102,
   "metadata": {
    "collapsed": false
   },
   "outputs": [],
   "source": [
    "class Panel: \n",
    "    \"\"\"\n",
    "    Contains information related to panel\n",
    "    \"\"\"\n",
    "    def __init__(self, xa, ya, xb, yb):\n",
    "        \"\"\"\n",
    "        Initialized the panel. \n",
    "        \n",
    "        sets the end-points and calculates the center-point, length, \n",
    "        and angle (with x-axis) of the panel. \n",
    "        Defines if the panel is located on the upper or lower surface \n",
    "        of the panel. \n",
    "        Initialized the source-strength, tangential velocity and pressure\n",
    "        coefficent of the panel to zero. \n",
    "        \n",
    "        Parameters:\n",
    "        -----------\n",
    "        xa: float\n",
    "            x-coordinate of the first end-point. \n",
    "        ya: float\n",
    "            y-coordinate of the first end-point. \n",
    "        xb: float \n",
    "            x-coordinate of the second end-point. \n",
    "        yb: float \n",
    "            y-coordinate of the second end-point. \n",
    "        \"\"\"\n",
    "        \n",
    "        self.xa, self.ya = xa, ya #panel starting-point \n",
    "        self.xb, self.yb = xb, yb #panel ending point \n",
    "        \n",
    "        self.xc, self.yc = (xa+xb)/2, (ya+yb)/2\n",
    "        self.length = numpy.sqrt((xb-xa)**2+(yb-ya)**2)\n",
    "        \n",
    "        # orientation of panel (angle between x-axis and panels normal)\n",
    "        if xb-xa <=0.0: \n",
    "            self.beta = numpy.arccos((yb-ya)/self.length)\n",
    "        elif xb-xa >0.0: \n",
    "            self.beta = numpy.pi + numpy.arccos(-(yb-ya)/self.length)\n",
    "        \n",
    "        # panel location \n",
    "        if self.beta <= numpy.pi:\n",
    "            self.loc = 'upper'\n",
    "        else: \n",
    "            self.loc = 'lower'\n",
    "            \n",
    "        self.sigma = 0.0\n",
    "        self.vt = 0.0\n",
    "        self.cp = 0.0"
   ]
  },
  {
   "cell_type": "code",
   "execution_count": 130,
   "metadata": {
    "collapsed": false
   },
   "outputs": [],
   "source": [
    "# Defining Panels using the points given\n",
    "Main_panels = numpy.empty(N-1, dtype = object)\n",
    "Flap_panels = numpy.empty(N-1, dtype = object)\n",
    "for i in range(N-1):\n",
    "    Main_panels[i] = Panel(Main_x_ends[i], Main_y_ends[i], \n",
    "                          Main_x_ends[i+1], Main_y_ends[i+1])\n",
    "    Flap_panels[i] = Panel(Flap_x_ends[i], Flap_y_ends[i], \n",
    "                           Flap_x_ends[i+1], Flap_y_ends[i+1])"
   ]
  },
  {
   "cell_type": "code",
   "execution_count": 131,
   "metadata": {
    "collapsed": false
   },
   "outputs": [
    {
     "data": {
      "image/png": "[encoded data removed]",
      "text/plain": [
       "<matplotlib.figure.Figure at 0x7fd526b40fd0>"
      ]
     },
     "metadata": {},
     "output_type": "display_data"
    }
   ],
   "source": [
    "#plot the discretized geometry to check if panels are defined correctly\n",
    "width= 10 \n",
    "pyplot.figure(figsize=(width,width))\n",
    "pyplot.grid()\n",
    "pyplot.xlabel('x', fontsize=16)\n",
    "pyplot.ylabel('y', fontsize=16)\n",
    "pyplot.plot(Main_x_ends,Main_y_ends,color='k', linestyle = '-', linewidth=2)\n",
    "pyplot.plot(Flap_x_ends,Flap_y_ends,color='k', linestyle = '-', linewidth=2)\n",
    "for i in range(N-1): \n",
    "    pyplot.plot(Main_panels[i].xc, Main_panels[i].yc, color = 'b', \n",
    "                    marker= 'o', markersize = 6)\n",
    "    pyplot.plot(Flap_panels[i].xc, Flap_panels[i].yc, color = 'b', \n",
    "                    marker= 'o', markersize = 6)\n",
    "pyplot.axis('scaled', adjustable='box')\n",
    "pyplot.xlim(-0.1, 1.4)\n",
    "pyplot.ylim(-0.3,0.1);"
   ]
  },
  {
   "cell_type": "markdown",
   "metadata": {},
   "source": [
    "### Free stream Conditions"
   ]
  },
  {
   "cell_type": "code",
   "execution_count": 140,
   "metadata": {
    "collapsed": false
   },
   "outputs": [],
   "source": [
    "class Freestream: \n",
    "    \"\"\"\n",
    "    Freestream conditions. \n",
    "    \"\"\"\n",
    "    def __init__(self, u_inf =1.0, alpha =0.0):\n",
    "        \"\"\"\n",
    "        Sets the freestream speed and angle (in degrees). \n",
    "        \n",
    "        Parameters\n",
    "        ----------\n",
    "        u_inf: float, optional\n",
    "            Freestream speed;\n",
    "            default: 1.0. \n",
    "        alpha: float, optional\n",
    "            Angle of attack in degrees; \n",
    "            default: 0.0. \n",
    "        \"\"\"\n",
    "        self.u_inf = u_inf\n",
    "        self.alpha = alpha*numpy.pi/180.0"
   ]
  },
  {
   "cell_type": "code",
   "execution_count": 141,
   "metadata": {
    "collapsed": false
   },
   "outputs": [],
   "source": [
    "# define freestream conditions \n",
    "freestream = Freestream(u_inf=1.0, alpha = 0.0)"
   ]
  },
  {
   "cell_type": "markdown",
   "metadata": {},
   "source": [
    "### Flow tangency boundary condition, Enforcing Kutta condition, and Building the linear system"
   ]
  },
  {
   "cell_type": "code",
   "execution_count": 142,
   "metadata": {
    "collapsed": true
   },
   "outputs": [],
   "source": [
    "# define the function for the integral part of the equation \n",
    "def integral(x, y, panel, dxdk, dydk): \n",
    "    \"\"\"\n",
    "    Evaluates the contribution from a panel at a given point. \n",
    "    \n",
    "    Parameters \n",
    "    ----------\n",
    "    x: float\n",
    "        x-coordinate of target point. \n",
    "    y: float \n",
    "        y-coodrinate of target point. \n",
    "    panel: Panel object \n",
    "        Panel whose contribution is evaluated. \n",
    "    dxdk: float \n",
    "        Value of the derivative of x in a certain direction. \n",
    "    dydk: float \n",
    "        Value of the derivative of y in a certain direction. \n",
    "    \n",
    "    Returns \n",
    "    -------\n",
    "    Contribution fro the panel at a given point (x, y)\n",
    "    \"\"\"\n",
    "    def integrand(s): \n",
    "        return ( ((x - (panel.xa - numpy.sin(panel.beta)*s))*dxdk\n",
    "                  +(y - (panel.ya + numpy.cos(panel.beta)*s))*dydk)\n",
    "               / ((x - (panel.xa - numpy.sin(panel.beta)*s))**2\n",
    "                 + (y - (panel.ya + numpy.cos(panel.beta)*s))**2) )\n",
    "    return integrate.quad(integrand, 0.0, panel.length)[0]"
   ]
  },
  {
   "cell_type": "markdown",
   "metadata": {},
   "source": [
    "Defining the source contribution normal function"
   ]
  },
  {
   "cell_type": "code",
   "execution_count": 144,
   "metadata": {
    "collapsed": true
   },
   "outputs": [],
   "source": [
    "def source_contribution_normal(panels): \n",
    "    \"\"\"\n",
    "    Builds the source contribution matrix for the normal velocity. \n",
    "    \n",
    "    Parameters\n",
    "    -----------\n",
    "    panels: 1D array of Panel objects\n",
    "        list of panels. \n",
    "    \n",
    "    Returns \n",
    "    -------\n",
    "    A: 2D Numpy array of floats\n",
    "        Source contribution matrix\n",
    "    \"\"\"\n",
    "    A = numpy.empty((panels.size, panels.size), dtype = float)\n",
    "    # source contribution on a panel from itself \n",
    "    numpy.fill_diagonal(A, 0.5)\n",
    "    # source contribution on a panel from others \n",
    "    for i, panel_i in enumerate(panels): \n",
    "        for j, panel_j in enumerate(panels):\n",
    "            if i != j:\n",
    "                A[i,j] = 0.5/numpy.pi*integral(panel_i.xc, panel_i.yc,\n",
    "                                              panel_j, \n",
    "                                              numpy.cos(panel_i.beta), \n",
    "                                              numpy.sin(panel_i.beta))\n",
    "    return A"
   ]
  },
  {
   "cell_type": "code",
   "execution_count": null,
   "metadata": {
    "collapsed": true
   },
   "outputs": [],
   "source": [
    "# Define the source contribution "
   ]
  }
 ],
 "metadata": {
  "anaconda-cloud": {},
  "kernelspec": {
   "display_name": "Python [conda root]",
   "language": "python",
   "name": "conda-root-py"
  },
  "language_info": {
   "codemirror_mode": {
    "name": "ipython",
    "version": 3
   },
   "file_extension": ".py",
   "mimetype": "text/x-python",
   "name": "python",
   "nbconvert_exporter": "python",
   "pygments_lexer": "ipython3",
   "version": "3.5.2"
  }
 },
 "nbformat": 4,
 "nbformat_minor": 1
}
