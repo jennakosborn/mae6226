{
 "cells": [
  {
   "cell_type": "markdown",
   "metadata": {},
   "source": [
    "# 2D Multi-element airfoil\n",
    "\n",
    "This assignment will investigate a 2D multi-element airfoil or wing section with an extended flap. This is adapting the source-vortex panel method from Lesson 11 to compute the flow around two airfoils \n",
    "\n",
    "\n",
    "**Key concepts** \n",
    "1. each airfoil has its own vortex strength \n",
    "2. the trailing edge of the airfoil must follow the Kutta condition. \n",
    "\n",
    "\n",
    "## Part 1: Williams' test case \n",
    "\n",
    "The test of the theoretical solution. We will use a more popular airfoil NACA23012 for both the main wing section and flap. \n",
    "\n",
    "**Task**: to calculate the pressure coefficient on a multi-element wing section "
   ]
  },
  {
   "cell_type": "markdown",
   "metadata": {},
   "source": [
    "### Defining the Geometry and Discretization"
   ]
  },
  {
   "cell_type": "code",
   "execution_count": 84,
   "metadata": {
    "collapsed": true
   },
   "outputs": [],
   "source": [
    "#importing the libraries and modules needed \n",
    "import numpy \n",
    "from scipy import integrate, linalg \n",
    "from matplotlib import pyplot\n",
    "\n",
    "# integrate plots into the notebook \n",
    "%matplotlib inline "
   ]
  },
  {
   "cell_type": "code",
   "execution_count": 4,
   "metadata": {
    "collapsed": false
   },
   "outputs": [],
   "source": [
    "# Importing the Data\n",
    "MainFoil = numpy.genfromtxt('MainFoil_N=50.csv', delimiter =',')\n",
    "FlapFoil = numpy.genfromtxt('FlapFoil_N=50.csv', delimiter = ',')"
   ]
  },
  {
   "cell_type": "code",
   "execution_count": 33,
   "metadata": {
    "collapsed": false
   },
   "outputs": [],
   "source": [
    "# Extracting Geometry from the Imported data\n",
    "Main_x_ends, Flap_x_ends = MainFoil[:,0], FlapFoil[:,0]\n",
    "Main_y_ends, Flap_y_ends = MainFoil[:,1], FlapFoil[:,1]\n",
    "\n",
    "N = numpy.size(Main_x_ends)-1"
   ]
  },
  {
   "cell_type": "code",
   "execution_count": 6,
   "metadata": {
    "collapsed": false
   },
   "outputs": [
    {
     "data": {
      "image/png": "[encoded data removed]",
      "text/plain": [
       "<matplotlib.figure.Figure at 0x7fbfbea26748>"
      ]
     },
     "metadata": {},
     "output_type": "display_data"
    }
   ],
   "source": [
    "# Checking the geometry to see if it matches the diagram\n",
    "width =10\n",
    "pyplot.figure(figsize=(width,width))\n",
    "pyplot.grid()\n",
    "pyplot.xlabel('x', fontsize=16)\n",
    "pyplot.ylabel('y', fontsize=16)\n",
    "pyplot.plot(Main_x_ends,Main_y_ends,color='k', linestyle='-', linewidth=2)\n",
    "pyplot.plot(Flap_x_ends, Flap_y_ends, color='k', linestyle='-', linewidth=2)\n",
    "pyplot.axis('scaled', adjustable='box')\n",
    "pyplot.xlim(-0.1, 1.4)\n",
    "pyplot.ylim(-0.3,0.1);"
   ]
  },
  {
   "cell_type": "markdown",
   "metadata": {},
   "source": [
    "Now that our geometry is loaded, We will calculate the velocities "
   ]
  },
  {
   "cell_type": "code",
   "execution_count": 7,
   "metadata": {
    "collapsed": false
   },
   "outputs": [],
   "source": [
    "class Panel: \n",
    "    \"\"\"\n",
    "    Contains information related to panel\n",
    "    \"\"\"\n",
    "    def __init__(self, xa, ya, xb, yb):\n",
    "        \"\"\"\n",
    "        Initialized the panel. \n",
    "        \n",
    "        sets the end-points and calculates the center-point, length, \n",
    "        and angle (with x-axis) of the panel. \n",
    "        Defines if the panel is located on the upper or lower surface \n",
    "        of the panel. \n",
    "        Initialized the source-strength, tangential velocity and pressure\n",
    "        coefficent of the panel to zero. \n",
    "        \n",
    "        Parameters:\n",
    "        -----------\n",
    "        xa: float\n",
    "            x-coordinate of the first end-point. \n",
    "        ya: float\n",
    "            y-coordinate of the first end-point. \n",
    "        xb: float \n",
    "            x-coordinate of the second end-point. \n",
    "        yb: float \n",
    "            y-coordinate of the second end-point. \n",
    "        \"\"\"\n",
    "        \n",
    "        self.xa, self.ya = xa, ya #panel starting-point \n",
    "        self.xb, self.yb = xb, yb #panel ending point \n",
    "        \n",
    "        self.xc, self.yc = (xa+xb)/2, (ya+yb)/2\n",
    "        self.length = numpy.sqrt((xb-xa)**2+(yb-ya)**2)\n",
    "        \n",
    "        # orientation of panel (angle between x-axis and panels normal)\n",
    "        if xb-xa <=0.0: \n",
    "            self.beta = numpy.arccos((yb-ya)/self.length)\n",
    "        elif xb-xa >0.0: \n",
    "            self.beta = numpy.pi + numpy.arccos(-(yb-ya)/self.length)\n",
    "        \n",
    "        # panel location \n",
    "        if self.beta <= numpy.pi:\n",
    "            self.loc = 'upper'\n",
    "        else: \n",
    "            self.loc = 'lower'\n",
    "            \n",
    "        self.sigma = 0.0\n",
    "        self.vt = 0.0\n",
    "        self.cp = 0.0"
   ]
  },
  {
   "cell_type": "code",
   "execution_count": 35,
   "metadata": {
    "collapsed": false
   },
   "outputs": [],
   "source": [
    "# Defining Panels using the points given\n",
    "Main_panels = numpy.empty(N, dtype = object)\n",
    "Flap_panels = numpy.empty(N, dtype = object)\n",
    "for i in range(N):\n",
    "    Main_panels[i] = Panel(Main_x_ends[i], Main_y_ends[i], \n",
    "                          Main_x_ends[i+1], Main_y_ends[i+1])\n",
    "    Flap_panels[i] = Panel(Flap_x_ends[i], Flap_y_ends[i], \n",
    "                           Flap_x_ends[i+1], Flap_y_ends[i+1])"
   ]
  },
  {
   "cell_type": "code",
   "execution_count": 36,
   "metadata": {
    "collapsed": false
   },
   "outputs": [
    {
     "data": {
      "image/png": "[encoded data removed]",
      "text/plain": [
       "<matplotlib.figure.Figure at 0x7fbfbca455c0>"
      ]
     },
     "metadata": {},
     "output_type": "display_data"
    }
   ],
   "source": [
    "#plot the discretized geometry to check if panels are defined correctly\n",
    "width= 10 \n",
    "pyplot.figure(figsize=(width,width))\n",
    "pyplot.grid()\n",
    "pyplot.xlabel('x', fontsize=16)\n",
    "pyplot.ylabel('y', fontsize=16)\n",
    "pyplot.plot(Main_x_ends,Main_y_ends,color='k', linestyle = '-', linewidth=2)\n",
    "pyplot.plot(Flap_x_ends,Flap_y_ends,color='k', linestyle = '-', linewidth=2)\n",
    "for i in range(N-1): \n",
    "    pyplot.plot(Main_panels[i].xc, Main_panels[i].yc, color = 'b', \n",
    "                    marker= 'o', markersize = 6)\n",
    "    pyplot.plot(Flap_panels[i].xc, Flap_panels[i].yc, color = 'b', \n",
    "                    marker= 'o', markersize = 6)\n",
    "pyplot.axis('scaled', adjustable='box')\n",
    "pyplot.xlim(-0.1, 1.4)\n",
    "pyplot.ylim(-0.3,0.1);"
   ]
  },
  {
   "cell_type": "markdown",
   "metadata": {},
   "source": [
    "### Free stream Conditions"
   ]
  },
  {
   "cell_type": "code",
   "execution_count": 37,
   "metadata": {
    "collapsed": false
   },
   "outputs": [],
   "source": [
    "class Freestream: \n",
    "    \"\"\"\n",
    "    Freestream conditions. \n",
    "    \"\"\"\n",
    "    def __init__(self, u_inf =1.0, alpha =0.0):\n",
    "        \"\"\"\n",
    "        Sets the freestream speed and angle (in degrees). \n",
    "        \n",
    "        Parameters\n",
    "        ----------\n",
    "        u_inf: float, optional\n",
    "            Freestream speed;\n",
    "            default: 1.0. \n",
    "        alpha: float, optional\n",
    "            Angle of attack in degrees; \n",
    "            default: 0.0. \n",
    "        \"\"\"\n",
    "        self.u_inf = u_inf\n",
    "        self.alpha = alpha*numpy.pi/180.0"
   ]
  },
  {
   "cell_type": "code",
   "execution_count": 38,
   "metadata": {
    "collapsed": false
   },
   "outputs": [],
   "source": [
    "# define freestream conditions \n",
    "freestream = Freestream(u_inf=1.0, alpha = 0.0)"
   ]
  },
  {
   "cell_type": "markdown",
   "metadata": {},
   "source": [
    "### Flow tangency boundary condition, Enforcing Kutta condition, and Building the linear system"
   ]
  },
  {
   "cell_type": "code",
   "execution_count": 12,
   "metadata": {
    "collapsed": true
   },
   "outputs": [],
   "source": [
    "# define the function for the integral part of the equation \n",
    "def integral(x, y, panel, dxdk, dydk): \n",
    "    \"\"\"\n",
    "    Evaluates the contribution from a panel at a given point. \n",
    "    \n",
    "    Parameters \n",
    "    ----------\n",
    "    x: float\n",
    "        x-coordinate of target point. \n",
    "    y: float \n",
    "        y-coodrinate of target point. \n",
    "    panel: Panel object \n",
    "        Panel whose contribution is evaluated. \n",
    "    dxdk: float \n",
    "        Value of the derivative of x in a certain direction. \n",
    "    dydk: float \n",
    "        Value of the derivative of y in a certain direction. \n",
    "    \n",
    "    Returns \n",
    "    -------\n",
    "    Contribution fro the panel at a given point (x, y)\n",
    "    \"\"\"\n",
    "    def integrand(s): \n",
    "        return ( ((x - (panel.xa - numpy.sin(panel.beta)*s))*dxdk\n",
    "                  +(y - (panel.ya + numpy.cos(panel.beta)*s))*dydk)\n",
    "               / ((x - (panel.xa - numpy.sin(panel.beta)*s))**2\n",
    "                 + (y - (panel.ya + numpy.cos(panel.beta)*s))**2) )\n",
    "    return integrate.quad(integrand, 0.0, panel.length)[0]"
   ]
  },
  {
   "cell_type": "markdown",
   "metadata": {},
   "source": [
    "Defining the source contribution normal function"
   ]
  },
  {
   "cell_type": "code",
   "execution_count": 13,
   "metadata": {
    "collapsed": true
   },
   "outputs": [],
   "source": [
    "def source_contribution_normal(panels): \n",
    "    \"\"\"\n",
    "    Builds the source contribution matrix for the normal velocity. \n",
    "    \n",
    "    Parameters\n",
    "    -----------\n",
    "    panels: 1D array of Panel objects\n",
    "        list of panels. \n",
    "    \n",
    "    Returns \n",
    "    -------\n",
    "    A: 2D Numpy array of floats\n",
    "        Source contribution matrix\n",
    "    \"\"\"\n",
    "    A = numpy.empty((panels.size, panels.size), dtype = float)\n",
    "    # source contribution on a panel from itself \n",
    "    numpy.fill_diagonal(A, 0.5)\n",
    "    # source contribution on a panel from others \n",
    "    for i, panel_i in enumerate(panels): \n",
    "        for j, panel_j in enumerate(panels):\n",
    "            if i != j:\n",
    "                A[i,j] = 0.5/numpy.pi*integral(panel_i.xc, panel_i.yc,\n",
    "                                              panel_j, \n",
    "                                              numpy.cos(panel_i.beta), \n",
    "                                              numpy.sin(panel_i.beta))\n",
    "    return A"
   ]
  },
  {
   "cell_type": "code",
   "execution_count": 14,
   "metadata": {
    "collapsed": true
   },
   "outputs": [],
   "source": [
    "# Define the vortex normal contribution\n",
    "def vortex_contribution_normal(panels): \n",
    "    \"\"\"\n",
    "    Builds the vortex contribution for the normal velocity. \n",
    "    \n",
    "    Parameters\n",
    "    ----------\n",
    "    panels: 1D array of Panel objects\n",
    "        List of panels\n",
    "    \n",
    "    Returns \n",
    "    -------\n",
    "    A: 2D Numpy array of floats\n",
    "        Vortex contribution matrix. \n",
    "    \"\"\"\n",
    "    B = numpy.empty((panels.size, panels.size), dtype = float)\n",
    "    # vortex contribution on a panel from itself \n",
    "    numpy.fill_diagonal(B, 0.0)\n",
    "    # vortex contribution on a panel from others \n",
    "    for i, panel_i in enumerate(panels): \n",
    "        for j, panel_j in enumerate(panels): \n",
    "            if i != j: \n",
    "                B[i,j] = -0.5/numpy.pi*integral(panel_i.xc, panel_i.yc, \n",
    "                                               panel_j, \n",
    "                                               numpy.sin(panel_i.beta), \n",
    "                                               -numpy.cos(panel_i.beta))\n",
    "    return B"
   ]
  },
  {
   "cell_type": "code",
   "execution_count": 72,
   "metadata": {
    "collapsed": false
   },
   "outputs": [],
   "source": [
    "## Defining the panels\n",
    "\n",
    "# Combining the panels for source calculation \n",
    "All_panels = numpy.append(Main_panels, Flap_panels)\n",
    "\n",
    "#Defining source contribution \n",
    "A_source = source_contribution_normal(All_panels)\n",
    "\n",
    "# Defining the vortex contribution\n",
    "B_vortex = vortex_contribution_normal(All_panels)\n",
    "\n",
    "# Breaking the individual for kutta condition\n",
    "B_vortex_main = B_vortex[:N, :]\n",
    "B_vortex_flap = B_vortex[N:, :]"
   ]
  },
  {
   "cell_type": "code",
   "execution_count": 73,
   "metadata": {
    "collapsed": true
   },
   "outputs": [],
   "source": [
    "def kutta_condition(A_source, B_vortex):\n",
    "    \"\"\"\n",
    "    Builds the Kutta condition array.\n",
    "    \n",
    "    Parameters\n",
    "    ----------\n",
    "    A_source: 2D Numpy array of floats\n",
    "        Source contribution matrix for the normal velocity.\n",
    "    B_vortex: 2D Numpy array of floats\n",
    "        Vortex contribution matrix for the normal velocity.\n",
    "    \n",
    "    Returns\n",
    "    -------\n",
    "    b: 1D Numpy array of floats\n",
    "        The left-hand side of the Kutta-condition equation.\n",
    "    \"\"\"\n",
    "    b = numpy.empty(A_source.shape[0]+1, dtype=float)\n",
    "    # matrix of source contribution on tangential velocity\n",
    "    # is the same than\n",
    "    # matrix of vortex contribution on normal velocity\n",
    "    b[:-1] = B_vortex[0, :] + B_vortex[-1, :]\n",
    "    # matrix of vortex contribution on tangential velocity\n",
    "    # is the opposite of\n",
    "    # matrix of source contribution on normal velocity\n",
    "    b[-1] = - numpy.sum(A_source[0, :] + A_source[-1, :])\n",
    "    return b"
   ]
  },
  {
   "cell_type": "code",
   "execution_count": 81,
   "metadata": {
    "collapsed": false
   },
   "outputs": [],
   "source": [
    "def build_singularity_matrix(A_source, B_vortex_main, B_vortex_flap):\n",
    "    \"\"\"\n",
    "    Builds the left-hand side matrix of the system\n",
    "    arising from source and vortex contributions.\n",
    "    \n",
    "    Parameters\n",
    "    ----------\n",
    "    A_source: 2D Numpy array of floats\n",
    "        Source contribution matrix for the normal velocity.\n",
    "    B_vortex: 2D Numpy array of floats\n",
    "        Vortex contribution matrix for the normal velocity.\n",
    "    \n",
    "    Returns\n",
    "    -------\n",
    "    A:  2D Numpy array of floats\n",
    "        Matrix of the linear system.\n",
    "    \"\"\"\n",
    "    A = numpy.empty((A_source.shape[0]+2, A_source.shape[1]+2), dtype=float)\n",
    "    # source contribution matrix\n",
    "    A[:-2, :-2] = A_source\n",
    "    # vortex contribution array\n",
    "    A[:-2, -2] = numpy.sum(B_vortex_main, axis=0)\n",
    "    A[:-2, -1] = numpy.sum(B_vortex_flap, axis=0)\n",
    "    # Kutta condition array\n",
    "    A[-2, :N] = kutta_condition(A_source, B_vortex_main)\n",
    "    A[-1, :N] = kutta_condition(A_source, B_vortex_flap)\n",
    "\n",
    "    return A"
   ]
  },
  {
   "cell_type": "code",
   "execution_count": 82,
   "metadata": {
    "collapsed": false
   },
   "outputs": [],
   "source": [
    "def build_freestream_rhs(panels, freestream):\n",
    "    \"\"\"\n",
    "    Builds the right-hand side of the system \n",
    "    arising from the freestream contribution.\n",
    "    \n",
    "    Parameters\n",
    "    ----------\n",
    "    panels: 1D array of Panel objects\n",
    "        List of panels.\n",
    "    freestream: Freestream object\n",
    "        Freestream conditions.\n",
    "    \n",
    "    Returns\n",
    "    -------\n",
    "    b: 1D Numpy array of floats\n",
    "        Freestream contribution on each panel and on the Kutta condition.\n",
    "    \"\"\"\n",
    "    b = numpy.empty(panels.size+1,dtype=float)\n",
    "    # freestream contribution on each panel\n",
    "    for i, panel in enumerate(panels):\n",
    "        b[i] = -freestream.u_inf * numpy.cos(freestream.alpha - panel.beta)\n",
    "    # freestream contribution on the Kutta condition\n",
    "    b[-1] = -freestream.u_inf*( numpy.sin(freestream.alpha-panels[0].beta)\n",
    "                               +numpy.sin(freestream.alpha-panels[-1].beta) )\n",
    "    return b"
   ]
  },
  {
   "cell_type": "code",
   "execution_count": 83,
   "metadata": {
    "collapsed": false
   },
   "outputs": [
    {
     "ename": "ValueError",
     "evalue": "could not broadcast input array from shape (101) into shape (50)",
     "output_type": "error",
     "traceback": [
      "\u001b[0;31m---------------------------------------------------------------------------\u001b[0m",
      "\u001b[0;31mValueError\u001b[0m                                Traceback (most recent call last)",
      "\u001b[0;32m<ipython-input-83-8a745c47a64f>\u001b[0m in \u001b[0;36m<module>\u001b[0;34m()\u001b[0m\n\u001b[0;32m----> 1\u001b[0;31m \u001b[0mA\u001b[0m \u001b[0;34m=\u001b[0m \u001b[0mbuild_singularity_matrix\u001b[0m\u001b[0;34m(\u001b[0m\u001b[0mA_source\u001b[0m\u001b[0;34m,\u001b[0m \u001b[0mB_vortex_main\u001b[0m\u001b[0;34m,\u001b[0m \u001b[0mB_vortex_flap\u001b[0m\u001b[0;34m)\u001b[0m\u001b[0;34m\u001b[0m\u001b[0m\n\u001b[0m\u001b[1;32m      2\u001b[0m \u001b[0mb\u001b[0m \u001b[0;34m=\u001b[0m \u001b[0mbuild_freestream_rhs\u001b[0m\u001b[0;34m(\u001b[0m\u001b[0mAll_panels\u001b[0m\u001b[0;34m,\u001b[0m \u001b[0mfreestream\u001b[0m\u001b[0;34m)\u001b[0m\u001b[0;34m\u001b[0m\u001b[0m\n",
      "\u001b[0;32m<ipython-input-81-9cc7a7b0fc24>\u001b[0m in \u001b[0;36mbuild_singularity_matrix\u001b[0;34m(A_source, B_vortex_main, B_vortex_flap)\u001b[0m\n\u001b[1;32m     23\u001b[0m     \u001b[0mA\u001b[0m\u001b[0;34m[\u001b[0m\u001b[0;34m:\u001b[0m\u001b[0;34m-\u001b[0m\u001b[0;36m2\u001b[0m\u001b[0;34m,\u001b[0m \u001b[0;34m-\u001b[0m\u001b[0;36m1\u001b[0m\u001b[0;34m]\u001b[0m \u001b[0;34m=\u001b[0m \u001b[0mnumpy\u001b[0m\u001b[0;34m.\u001b[0m\u001b[0msum\u001b[0m\u001b[0;34m(\u001b[0m\u001b[0mB_vortex_flap\u001b[0m\u001b[0;34m,\u001b[0m \u001b[0maxis\u001b[0m\u001b[0;34m=\u001b[0m\u001b[0;36m0\u001b[0m\u001b[0;34m)\u001b[0m\u001b[0;34m\u001b[0m\u001b[0m\n\u001b[1;32m     24\u001b[0m     \u001b[0;31m# Kutta condition array\u001b[0m\u001b[0;34m\u001b[0m\u001b[0;34m\u001b[0m\u001b[0m\n\u001b[0;32m---> 25\u001b[0;31m     \u001b[0mA\u001b[0m\u001b[0;34m[\u001b[0m\u001b[0;34m-\u001b[0m\u001b[0;36m2\u001b[0m\u001b[0;34m,\u001b[0m \u001b[0;34m:\u001b[0m\u001b[0mN\u001b[0m\u001b[0;34m]\u001b[0m \u001b[0;34m=\u001b[0m \u001b[0mkutta_condition\u001b[0m\u001b[0;34m(\u001b[0m\u001b[0mA_source\u001b[0m\u001b[0;34m,\u001b[0m \u001b[0mB_vortex_main\u001b[0m\u001b[0;34m)\u001b[0m\u001b[0;34m\u001b[0m\u001b[0m\n\u001b[0m\u001b[1;32m     26\u001b[0m     \u001b[0mA\u001b[0m\u001b[0;34m[\u001b[0m\u001b[0;34m-\u001b[0m\u001b[0;36m1\u001b[0m\u001b[0;34m,\u001b[0m \u001b[0;34m:\u001b[0m\u001b[0mN\u001b[0m\u001b[0;34m]\u001b[0m \u001b[0;34m=\u001b[0m \u001b[0mkutta_condition\u001b[0m\u001b[0;34m(\u001b[0m\u001b[0mA_source\u001b[0m\u001b[0;34m,\u001b[0m \u001b[0mB_vortex_flap\u001b[0m\u001b[0;34m)\u001b[0m\u001b[0;34m\u001b[0m\u001b[0m\n\u001b[1;32m     27\u001b[0m \u001b[0;34m\u001b[0m\u001b[0m\n",
      "\u001b[0;31mValueError\u001b[0m: could not broadcast input array from shape (101) into shape (50)"
     ]
    }
   ],
   "source": [
    "A = build_singularity_matrix(A_source, B_vortex_main, B_vortex_flap)\n",
    "b = build_freestream_rhs(All_panels, freestream)"
   ]
  },
  {
   "cell_type": "code",
   "execution_count": 62,
   "metadata": {
    "collapsed": false
   },
   "outputs": [
    {
     "data": {
      "text/plain": [
       "(101,)"
      ]
     },
     "execution_count": 62,
     "metadata": {},
     "output_type": "execute_result"
    }
   ],
   "source": [
    "b\n",
    "numpy.shape(b)"
   ]
  },
  {
   "cell_type": "code",
   "execution_count": 63,
   "metadata": {
    "collapsed": false
   },
   "outputs": [
    {
     "data": {
      "text/plain": [
       "(100, 50)"
      ]
     },
     "execution_count": 63,
     "metadata": {},
     "output_type": "execute_result"
    }
   ],
   "source": [
    "numpy.shape(B_vortex_flap)"
   ]
  },
  {
   "cell_type": "code",
   "execution_count": 60,
   "metadata": {
    "collapsed": false
   },
   "outputs": [
    {
     "data": {
      "text/plain": [
       "(0, 2)"
      ]
     },
     "execution_count": 60,
     "metadata": {},
     "output_type": "execute_result"
    }
   ],
   "source": [
    "A\n"
   ]
  },
  {
   "cell_type": "code",
   "execution_count": 45,
   "metadata": {
    "collapsed": false
   },
   "outputs": [],
   "source": []
  },
  {
   "cell_type": "code",
   "execution_count": 49,
   "metadata": {
    "collapsed": false
   },
   "outputs": [],
   "source": []
  },
  {
   "cell_type": "code",
   "execution_count": 55,
   "metadata": {
    "collapsed": false
   },
   "outputs": [
    {
     "data": {
      "text/plain": [
       "array([ 1.,  1.,  1.,  1.,  1.,  1.,  1.,  1.,  1.,  0.,  0.,  0.])"
      ]
     },
     "execution_count": 55,
     "metadata": {},
     "output_type": "execute_result"
    }
   ],
   "source": []
  },
  {
   "cell_type": "code",
   "execution_count": 58,
   "metadata": {
    "collapsed": false
   },
   "outputs": [
    {
     "ename": "TypeError",
     "evalue": "tuple indices must be integers or slices, not tuple",
     "output_type": "error",
     "traceback": [
      "\u001b[0;31m---------------------------------------------------------------------------\u001b[0m",
      "\u001b[0;31mTypeError\u001b[0m                                 Traceback (most recent call last)",
      "\u001b[0;32m<ipython-input-58-9f88a62f3129>\u001b[0m in \u001b[0;36m<module>\u001b[0;34m()\u001b[0m\n\u001b[0;32m----> 1\u001b[0;31m \u001b[0mA\u001b[0m\u001b[0;34m[\u001b[0m\u001b[0;36m0\u001b[0m\u001b[0;34m,\u001b[0m\u001b[0;36m0\u001b[0m\u001b[0;34m]\u001b[0m\u001b[0;34m\u001b[0m\u001b[0m\n\u001b[0m",
      "\u001b[0;31mTypeError\u001b[0m: tuple indices must be integers or slices, not tuple"
     ]
    }
   ],
   "source": [
    "\n"
   ]
  },
  {
   "cell_type": "code",
   "execution_count": null,
   "metadata": {
    "collapsed": true
   },
   "outputs": [],
   "source": []
  }
 ],
 "metadata": {
  "anaconda-cloud": {},
  "kernelspec": {
   "display_name": "Python [conda root]",
   "language": "python",
   "name": "conda-root-py"
  },
  "language_info": {
   "codemirror_mode": {
    "name": "ipython",
    "version": 3
   },
   "file_extension": ".py",
   "mimetype": "text/x-python",
   "name": "python",
   "nbconvert_exporter": "python",
   "pygments_lexer": "ipython3",
   "version": "3.5.2"
  }
 },
 "nbformat": 4,
 "nbformat_minor": 1
}
