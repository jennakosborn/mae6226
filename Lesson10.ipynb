{
 "cells": [
  {
   "cell_type": "markdown",
   "metadata": {},
   "source": [
    "# Source Panel Methods\n",
    "\n",
    "Reviewing what we know: \n",
    "- The superposition powers\n",
    "- The superposition of a  doublet and freestream -flow around a cylinder\n",
    "- D'Alembert paradox: the result of zero drag for potential flow around a cylinder\n",
    "- Kutta-Joukowski Theorem- lift is proportional to circulation \n"
   ]
  },
  {
   "cell_type": "code",
   "execution_count": 1,
   "metadata": {
    "collapsed": true
   },
   "outputs": [],
   "source": [
    "import os \n",
    "import math \n",
    "import numpy\n",
    "from scipy import integrate\n",
    "from matplotlib import pyplot \n",
    "# display the figures in the Notebook \n",
    "%matplotlib inline "
   ]
  },
  {
   "cell_type": "code",
   "execution_count": null,
   "metadata": {
    "collapsed": true
   },
   "outputs": [],
   "source": []
  }
 ],
 "metadata": {
  "anaconda-cloud": {},
  "kernelspec": {
   "display_name": "Python [conda root]",
   "language": "python",
   "name": "conda-root-py"
  },
  "language_info": {
   "codemirror_mode": {
    "name": "ipython",
    "version": 3
   },
   "file_extension": ".py",
   "mimetype": "text/x-python",
   "name": "python",
   "nbconvert_exporter": "python",
   "pygments_lexer": "ipython3",
   "version": "3.5.2"
  }
 },
 "nbformat": 4,
 "nbformat_minor": 1
}
