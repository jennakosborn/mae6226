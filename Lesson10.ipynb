{
 "cells": [
  {
   "cell_type": "markdown",
   "metadata": {},
   "source": [
    "# Source Panel Methods\n",
    "\n",
    "Reviewing what we know: \n",
    "- The superposition powers\n",
    "- The superposition of a  doublet and freestream -flow around a cylinder\n",
    "- D'Alembert paradox: the result of zero drag for potential flow around a cylinder\n",
    "- Kutta-Joukowski Theorem- lift is proportional to circulation \n",
    "\n",
    "**Lesson 09**- direct method -- stipulate the geometry and then solve the source strengths on a panel discretization of the body that makes the flow tangent at the boundary\n",
    "\n",
    "A set of panels (line segments in 2D) can be used to represent the surface of any solid body immersed in a potential flow by making the source-sheet strengths such that the normal velocity at each panel is zero. \n",
    "\n",
    "For an arbitrary geometry, we need to build a set of panels according to some points that define geometry \n",
    "\n",
    "We will read in a file from geometry definition corresponding to **NACA0012 airfoil**, create a set of the panels, and solve for the source-sheet strengths to get flow around the airfoil \n",
    "\n",
    "Load our favorite Python Libraries and the inegrate module from SciPy"
   ]
  },
  {
   "cell_type": "code",
   "execution_count": 1,
   "metadata": {
    "collapsed": true
   },
   "outputs": [],
   "source": [
    "import os \n",
    "import math \n",
    "import numpy\n",
    "from scipy import integrate\n",
    "from matplotlib import pyplot \n",
    "# display the figures in the Notebook \n",
    "%matplotlib inline "
   ]
  },
  {
   "cell_type": "markdown",
   "metadata": {},
   "source": [
    "We want to read in the body geometry from a file using the NumPy function **loadtxt()**. The file comes from the Airfoil Tools website and it contains a set of coordinates from the standard NACA0012 symmetric profile. we saved the file in the resources folder and load it from our local copy. \n",
    "\n",
    "The geometry points get loaded into one Numpy array so we separate the data into two arrays: x,y (for better code readability). The subsequent code will plot the geometry of the airfoil. "
   ]
  },
  {
   "cell_type": "code",
   "execution_count": 2,
   "metadata": {
    "collapsed": false
   },
   "outputs": [
    {
     "data": {
      "image/png": "[encoded data removed]",
      "text/plain": [
       "<matplotlib.figure.Figure at 0x7f0bfba342b0>"
      ]
     },
     "metadata": {},
     "output_type": "display_data"
    }
   ],
   "source": [
    "# read of the geometry from a data file\n",
    "naca_filepath = os.path.join( 'naca0012.dat')\n",
    "with open (naca_filepath, 'r') as file_name:\n",
    "    x, y = numpy.loadtxt(file_name, dtype=float, delimiter='\\t', unpack=True)\n",
    "\n",
    "# plot the geometry\n",
    "width = 10\n",
    "pyplot.figure(figsize=(width, width))\n",
    "pyplot.grid()\n",
    "pyplot.xlabel('x', fontsize=16)\n",
    "pyplot.ylabel('y', fontsize=16)\n",
    "pyplot.plot(x, y, color='k', linestyle='-', linewidth=2)\n",
    "pyplot.axis('scaled', adjustable='box')\n",
    "pyplot.xlim(-0.1, 1.1)\n",
    "pyplot.ylim(-0.1, 0.1);"
   ]
  },
  {
   "cell_type": "markdown",
   "metadata": {
    "collapsed": false
   },
   "source": [
    "## Discretization into panels \n",
    "\n",
    "We are going to discritize the body geometry into panels (line segments in 2D)\n",
    "\n",
    "Panel attributes:\n",
    " - Starting Point \n",
    " - End Point \n",
    " - Mid-point \n",
    " - Length \n",
    " - Orientation \n",
    " \n",
    "We can modify from our class **Panel** from our previous noteboook for the airfoil geometry. \n",
    "\n",
    "The only difference is we need to identify points on the top or bottom surfaces with the words *upper* and *lower* \n",
    "    - these will be used only for plotting results with different colors for top and bottom surfaces of the profile \n",
    "    \n",
    "    "
   ]
  },
  {
   "cell_type": "code",
   "execution_count": 3,
   "metadata": {
    "collapsed": true
   },
   "outputs": [],
   "source": [
    "class Panel: \n",
    "    \"\"\" \n",
    "    Contains info related to a panel. \n",
    "    \"\"\"\n",
    "    def __init__(self,xa,ya,xb,yb):\n",
    "        \"\"\" \n",
    "        Initializes the panel. \n",
    "        \n",
    "        Sets the end-points and calculates the center, length, and \n",
    "        angle (with the x-axis) of the panel. \n",
    "        Defines if the panel is on the lowe or upper surface of the geometry. \n",
    "        Initializes the source-sheet strength, tangential velocity, \n",
    "        and pressure coefficient to zero. \n",
    "        \n",
    "        Parameters\n",
    "        ----------\n",
    "        xa: float \n",
    "            x-coordinate of the first endpoint. \n",
    "        ya: float \n",
    "            y-coordinate of the first endpoint. \n",
    "        xb: float \n",
    "            x-coordinate of the second end-point. \n",
    "        yb: float \n",
    "            y-coordinate of the second end-point. \n",
    "        \"\"\"\n",
    "        self.xa, self.ya = xa, ya \n",
    "        self.xb, self.yb = xb, yb \n",
    "        \n",
    "        self.xc, self.yc = (xa+xb)/2, (ya+yb)/2 # center points \n",
    "        self.length = math.sqrt((xb-xa)**2+(yb-ya)**2) #length of the panel \n",
    "        \n",
    "        # orientation of the panel (angle between x-axis and panel's normal)\n",
    "        if xb-xa <= 0. : \n",
    "            self.beta = math.acos((yb-ya)/self.length)\n",
    "        elif xb-xa >= 0.:\n",
    "            self.beta = math.pi + math.acos(-(yb-ya)/self.length)\n",
    "        \n",
    "        # location of the panel \n",
    "        if self.beta <= math.pi: \n",
    "            self.loc = 'upper'\n",
    "        else: \n",
    "            self.loc = 'lower'\n",
    "            \n",
    "        self.sigma = 0. # source strength \n",
    "        self.vt = 0. # tangential velocity \n",
    "        self.cp = 0. #pressure coefficient "
   ]
  },
  {
   "cell_type": "markdown",
   "metadata": {},
   "source": [
    "Defining the geometry of the circular cylinder was really wasy. This is the more complicated part.\n",
    "\n",
    "We are going to create a code that will create panels from the geometry data. It is better to have small panels near the leading-edge and the trailing edge where the curvature is large. One methods to get a non-uniform distribution around the airfoil is to first discretize a circle with diameter equal to the airfoil's chord and discretize. Those x-coordinates on the circle will also be the x-coordinates of the panel nodes. We will project the y-coordinates on the airfoil by interpolation. \n",
    "\n",
    "\n",
    "Notes on **define_panels()**: \n",
    "    - we just need to compute the x-coordinates of the circle since the y-coordinates of the panel nodes will computed by interpolation \n",
    "    - we create a circle with N+1 points but the first and last points coincide \n",
    "    - we extend our NumPy arrays by adding an extra value that is equal to the first one; thus we don't have to do anything special with the value x[i+1] in the different loops; \n",
    "    - the while-loop is used to fine two consecutive points (x[I}, y[I]) and (x[ i+1], y[i+1]) on the foil such that the interval (x[I], x[I+1]) contrains the value of x_ends[i]; we use the keyword break to get out fo the loop. \n",
    "    - once the two points have been identified, the value y_ends[i] is computed by interpolation \n",
    "    "
   ]
  },
  {
   "cell_type": "code",
   "execution_count": 4,
   "metadata": {
    "collapsed": true
   },
   "outputs": [],
   "source": [
    "def define_panels(x, y, N=40): \n",
    "    \"\"\"\n",
    "    Discretizes the geometry into panels using the 'cosine' method. \n",
    "    \n",
    "    Parameters\n",
    "    ----------\n",
    "    x: 1D array of floats \n",
    "        x-coordinate of the points defining the geometry. \n",
    "    y: 1D array of floats \n",
    "        y-coordinate of the points defining the geometry. \n",
    "    N: ineteger, optional \n",
    "        Number of panels; \n",
    "        default: 40. \n",
    "        \n",
    "    Returns\n",
    "    -------\n",
    "    panels: 1D Numpy array of Panel objects\n",
    "        The discretization of the geometry into panels. \n",
    "    \"\"\"\n",
    "    \n",
    "    R = (x.max()-x.min())/2  # radius of the circle \n",
    "    x_center = (x.max()+x.min())/2 \n",
    "    x_circle = x_center + R*numpy.cos(numpy.linspace(0,2*math.pi, N+1)) \n",
    "    \n",
    "    x_ends = numpy.copy(x_circle) #projection of the x-coordinates on surface \n",
    "    y_ends = numpy.empty_like(x_ends) # initialization of the y-coord Numpy array\n",
    "    \n",
    "    x, y = numpy.append(x, x[0]), numpy.append(y, y[0]) #extend arrays using numpy. append\n",
    "    \n",
    "    #computes the y-coordinates of the end-points \n",
    "    I = 0 \n",
    "    for i in range(N):\n",
    "        while I < len(x)-1: \n",
    "            if (x[I] <= x_ends[i] <= x[I+1]) or (x[I+1] <= x_ends[i] <= x[I]):\n",
    "                break\n",
    "            else:\n",
    "                I += 1\n",
    "        a = (y[I+1]-y[I])/(x[I+1]-x[I])\n",
    "        b = y[I+1]- a*x[I+1]\n",
    "        y_ends[i]= a*x_ends[i]+ b\n",
    "    y_ends[N] = y_ends[0]\n",
    "    \n",
    "    panels = numpy.empty(N, dtype=object)\n",
    "    for i in range(N):\n",
    "        panels[i] = Panel(x_ends[i], y_ends[i], x_ends[i+1], y_ends[i+1])\n",
    "    \n",
    "    return panels"
   ]
  },
  {
   "cell_type": "markdown",
   "metadata": {},
   "source": [
    "Now we can use this function, calling it with the desired number of panels whenever we execute the cell below. We also plot the resulting geometry "
   ]
  },
  {
   "cell_type": "code",
   "execution_count": 7,
   "metadata": {
    "collapsed": false
   },
   "outputs": [
    {
     "data": {
      "image/png": "[encoded data removed]",
      "text/plain": [
       "<matplotlib.figure.Figure at 0x7f0bf9c494a8>"
      ]
     },
     "metadata": {},
     "output_type": "display_data"
    }
   ],
   "source": [
    "N= 40  #number of panels \n",
    "panels = define_panels(x,y, N) #discretizes the geometry \n",
    "\n",
    "# plot the geometry and the panels \n",
    "width = 10 \n",
    "pyplot.figure(figsize=(width,width))\n",
    "pyplot.grid()\n",
    "pyplot.xlabel('x', fontsize=16)\n",
    "pyplot.ylabel('y', fontsize=16)\n",
    "pyplot.plot(x,y,color = 'k', linestyle = '-', linewidth =2)\n",
    "pyplot.plot(numpy.append([panel.xa for panel in panels], panels[0].xa), \n",
    "            numpy.append([panel.ya for panel in panels], panels[0].ya), \n",
    "            linestyle = '-', linewidth =1, marker = 'o', markersize = 6, \n",
    "            color = '#CD2305')\n",
    "pyplot.axis('scaled', adjutable= 'box')\n",
    "pyplot.xlim(-0.1, 1.1 )\n",
    "pyplot.ylim(-0.1, 0.1);"
   ]
  },
  {
   "cell_type": "markdown",
   "metadata": {},
   "source": [
    "## Freestream conditions \n",
    "\n",
    "The airfoil will be immersed in a uniform flow with the velocity u-inf at an angle of attack alpha = 0 \n",
    "\n",
    "We will create the freestream class for improved readability \n"
   ]
  },
  {
   "cell_type": "code",
   "execution_count": 8,
   "metadata": {
    "collapsed": true
   },
   "outputs": [],
   "source": [
    "class Freestream: \n",
    "    \"\"\"\n",
    "    Freestream conditions. \n",
    "    \"\"\"\n",
    "    \n",
    "    def __init__(self, u_inf= 1.0, alpha = 0.0):  \n",
    "        \"\"\"\n",
    "        Sets the freestream speed and angle (with the x-axis)\n",
    "        \n",
    "        Parameters\n",
    "        -----------\n",
    "        u_inf: float, optional \n",
    "            Freestream speed; \n",
    "            default = 1.0 \n",
    "        alpha: float, optional \n",
    "            Angle of attack in degrees; \n",
    "            default = 0.0. \n",
    "        \"\"\"\n",
    "        \n",
    "        self.u_inf = u_inf \n",
    "        self.alpha = alpha*math.pi/180 \n",
    "        #returns in radians "
   ]
  },
  {
   "cell_type": "code",
   "execution_count": 9,
   "metadata": {
    "collapsed": true
   },
   "outputs": [],
   "source": [
    "# define and creates the object freestream \n",
    "u_inf = 1.0 \n",
    "alpha = 0.0 \n",
    "freestream  = Freestream(u_inf, alpha) \n"
   ]
  },
  {
   "cell_type": "markdown",
   "metadata": {},
   "source": [
    "## Flow tangency boundary conditions \n",
    "\n",
    "Enforcing the flow-tangency conditions on each *control-point* approximately makes the body geometry correspond to a dividing streamline (and the approximation improves if we represented the bosy with more and more panels) So for each panel i, we make un = 0 at xc, yc which leads equations similar to ones implemented in Lesson09 "
   ]
  },
  {
   "cell_type": "code",
   "execution_count": 17,
   "metadata": {
    "collapsed": true
   },
   "outputs": [],
   "source": [
    "def integral(x, y, panel, dxdz, dydz): \n",
    "    \"\"\"\n",
    "    Evaluates the contribution of a panel at one point. \n",
    "    \n",
    "    Parameters\n",
    "    ----------\n",
    "    x: float \n",
    "        x-coordinate of the target point. \n",
    "    y: float \n",
    "        y-coordinate of the target point. \n",
    "    panel: Panel object \n",
    "        Source panel which contribution is evaluated. \n",
    "    dxdz: float \n",
    "        Derivative of x in the z-direction. \n",
    "    dydz: float \n",
    "        Derivative of y in the z-direction. \n",
    "    \n",
    "    Returns\n",
    "    -------\n",
    "    Integral over the panel of the influence at the given target point. \n",
    "    \"\"\"\n",
    "    \n",
    "    def integrand(s): \n",
    "        return ( ((x-(panel.xa - math.sin(panel.beta)*s))*dxdz\n",
    "                 +(y - (panel.ya + math.cos(panel.beta)*s))*dydz)\n",
    "               / ((x - (panel.xa - math.sin(panel.beta)*s))**2\n",
    "                 +(y- (panel.ya +math.cos(panel.beta)*s))**2) )\n",
    "    return integrate.quad(integrand, 0.0, panel.length)[0]"
   ]
  },
  {
   "cell_type": "markdown",
   "metadata": {},
   "source": [
    "## Building the linear system \n",
    "\n",
    "We are going to solve \n",
    "Ax = b \n",
    "where x is the source strengths and use linalg.solve() from NumPy to solve the system and find the strength of each panel. "
   ]
  },
  {
   "cell_type": "code",
   "execution_count": 18,
   "metadata": {
    "collapsed": true
   },
   "outputs": [],
   "source": [
    "def build_matrix(panels):\n",
    "    \"\"\"\n",
    "    Builds the source matrix. \n",
    "    \n",
    "    Parameters\n",
    "    ----------\n",
    "    panels: 1D array of Panel object\n",
    "        The source panels.\n",
    "    \n",
    "    Returns \n",
    "    --------\n",
    "    A: 2D Numpy array of floats \n",
    "        The source matrix (NxN matric, N is the number of panels). \n",
    "    \"\"\"\n",
    "    N = len(panels)\n",
    "    A = numpy.empty((N,N), dtype = float) \n",
    "    numpy.fill_diagonal(A, 0.5) \n",
    "    \n",
    "    for i, p_i in enumerate(panels): \n",
    "        for j, p_j in enumerate(panels): \n",
    "            if i != j: \n",
    "                A[i,j] = 0.5/math.pi*integral(p_i.xc, p_i.yc, p_j, math.cos(p_i.beta), math.sin(p_i.beta))\n",
    "                \n",
    "    return A\n",
    "\n",
    "def build_rhs(panels,freestream): \n",
    "    \"\"\"\n",
    "    Builds the RHS of the linear system. \n",
    "    \n",
    "    Parameters\n",
    "    ----------\n",
    "    panels: 1D array of Panel objects \n",
    "        The source panels \n",
    "    freestream: Freestream object \n",
    "        The freestream conditions. \n",
    "    \n",
    "    Returns\n",
    "    -------\n",
    "    b: 1D Numpy array of floats \n",
    "        RHS of the linear system. \n",
    "    \"\"\"\n",
    "    \n",
    "    b= numpy.empty(len(panels), dtype=float)\n",
    "    \n",
    "    for i, panel in enumerate(panels): \n",
    "        b[i] = -freestream.u_inf * math.cos(freestream.alpha - panel.beta)\n",
    "    \n",
    "    return b"
   ]
  },
  {
   "cell_type": "code",
   "execution_count": 19,
   "metadata": {
    "collapsed": false
   },
   "outputs": [],
   "source": [
    "A = build_matrix(panels)\n",
    "b = build_rhs(panels, freestream)"
   ]
  },
  {
   "cell_type": "code",
   "execution_count": 20,
   "metadata": {
    "collapsed": true
   },
   "outputs": [],
   "source": [
    "# solve the linear system \n",
    "sigma = numpy.linalg.solve(A, b)\n",
    "\n",
    "for i, panel in enumerate(panels): \n",
    "    panel.sigma = sigma[i]"
   ]
  },
  {
   "cell_type": "markdown",
   "metadata": {},
   "source": [
    "## Surface Pressure coefficient \n",
    "\n",
    "equations! "
   ]
  },
  {
   "cell_type": "code",
   "execution_count": 26,
   "metadata": {
    "collapsed": false
   },
   "outputs": [],
   "source": [
    "def get_tangential_velocity(panels, freestream): \n",
    "    \"\"\"\n",
    "    Computes the tangential velocity of the surface of the panels. \n",
    "    \n",
    "    Parameters\n",
    "    -----------\n",
    "    panels: 1D array of Panel objects \n",
    "        The source panels. \n",
    "    freestream: Freestream object\n",
    "        The freestream conditions. \n",
    "    \"\"\"\n",
    "    \n",
    "    N = len(panels) \n",
    "    A = numpy.empty((N,N), dtype = float)\n",
    "    numpy.fill_diagonal(A, 0.0)\n",
    "    \n",
    "    for i, p_i in enumerate(panels): \n",
    "        for j, p_j in enumerate(panels): \n",
    "            if i != j:\n",
    "                A[i,j] = 0.5/math.pi*integral(p_i.xc, p_i.yc, p_j, -math.sin(p_i.beta), math.cos(p_i.beta))\n",
    "            \n",
    "    b = freestream.u_inf * numpy.sin([freestream.alpha- panel.beta for panel in panels])\n",
    "    \n",
    "    sigma = numpy.array([panel.sigma for panel in panels])\n",
    "    \n",
    "    vt =numpy.dot(A, sigma) + b \n",
    "    \n",
    "    for i, panel in enumerate(panels): \n",
    "        panel.vt = vt[i]"
   ]
  },
  {
   "cell_type": "code",
   "execution_count": 27,
   "metadata": {
    "collapsed": false
   },
   "outputs": [],
   "source": [
    "# compute the tangential velocity at the center-point of each panel \n",
    "get_tangential_velocity(panels,freestream)"
   ]
  },
  {
   "cell_type": "code",
   "execution_count": 29,
   "metadata": {
    "collapsed": true
   },
   "outputs": [],
   "source": [
    "def get_pressure_coefficient(panels, freestream):\n",
    "    \"\"\" \n",
    "    Computes the surface pressure coefficient on the panels. \n",
    "    \n",
    "    Parameters\n",
    "    ----------\n",
    "    panels: 1D array of Panel objects \n",
    "        The source panels. \n",
    "    Freestream: Freestream object\n",
    "        The freestream conditions. \n",
    "    \"\"\"\n",
    "    for panel in panels: \n",
    "        panel.cp = 1.0 - (panel.vt/freestream.u_inf)**2"
   ]
  },
  {
   "cell_type": "code",
   "execution_count": 30,
   "metadata": {
    "collapsed": true
   },
   "outputs": [],
   "source": [
    "# Computes the surface pressure coefficient \n",
    "get_pressure_coefficient(panels, freestream)\n"
   ]
  },
  {
   "cell_type": "markdown",
   "metadata": {},
   "source": [
    "### Theoretical solution\n",
    "\n",
    "Theodorsen's method: a classical method to obtain the theoretical characterisitics of airfoils, uses the Joukowski transformation but is able to deal with any airfoil by an addition transformation between a \"near circle\" and a circle. \n",
    "\n",
    "\n",
    "The values of (u/u_inf0^2 are given for several stations along the chord length. We have transcribed them here...."
   ]
  },
  {
   "cell_type": "code",
   "execution_count": 33,
   "metadata": {
    "collapsed": false
   },
   "outputs": [
    {
     "name": "stdout",
     "output_type": "stream",
     "text": [
      "[ 0.     0.64   1.01   1.241  1.378  1.402  1.411  1.411  1.399  1.378\n",
      "  1.35   1.288  1.228  1.166  1.109  1.044  0.956  0.906  0.   ]\n"
     ]
    }
   ],
   "source": [
    "voverVsquared = numpy.array([0, 0.64, 1.01, 1.241, 1.378, 1.402, 1.411, 1.411, \n",
    "                            1.399, 1.378, 1.35, 1.288, 1.228, 1.166, 1.109, 1.044, \n",
    "                            0.956, 0.906, 0.])\n",
    "print(voverVsquared)"
   ]
  },
  {
   "cell_type": "code",
   "execution_count": 35,
   "metadata": {
    "collapsed": false
   },
   "outputs": [
    {
     "name": "stdout",
     "output_type": "stream",
     "text": [
      "[ 0.      0.005   0.0125  0.025   0.05    0.075   0.1     0.15    0.2     0.25\n",
      "  0.3     0.4     0.5     0.6     0.7     0.8     0.9     0.95    1.    ]\n"
     ]
    }
   ],
   "source": [
    "xtheo=numpy.array([0, 0.5, 1.25, 2.5, 5.0, 7.5, 10, 15, \n",
    "                   20, 25, 30, 40, 50, 60, 70, 80, 90, 95, 100])\n",
    "xtheo = xtheo/100\n",
    "print(xtheo)"
   ]
  },
  {
   "cell_type": "code",
   "execution_count": 37,
   "metadata": {
    "collapsed": false
   },
   "outputs": [
    {
     "data": {
      "image/png": "[encoded data removed]",
      "text/plain": [
       "<matplotlib.figure.Figure at 0x7f0bf6e898d0>"
      ]
     },
     "metadata": {},
     "output_type": "display_data"
    }
   ],
   "source": [
    "# plot the surface pressure coefficient \n",
    "pyplot.figure(figsize=(10,6))\n",
    "pyplot.grid()\n",
    "pyplot.xlabel('x', fontsize=16)\n",
    "pyplot.ylabel('$C_p$', fontsize =16)\n",
    "pyplot.plot([panel.xc for panel in panels if panel.loc == 'upper'],\n",
    "           [panel.cp for panel in panels if panel.loc =='upper'],\n",
    "           label ='upper', \n",
    "           color= 'r', linewidth=1, marker='x', markersize =8)\n",
    "pyplot.plot([panel.xc for panel in panels if panel.loc == 'lower'],\n",
    "            [panel.cp for panel in panels if panel.loc == 'lower'], \n",
    "           label = 'lower', \n",
    "           color = 'b', linewidth = 0, marker = 'd', markersize=6)\n",
    "pyplot.plot(xtheo, 1-voverVsquared, \n",
    "           label = 'theoretical', color ='k', linestyle='--', linewidth = 2)\n",
    "pyplot.legend(loc ='best', prop={'size': 14})\n",
    "pyplot.xlim(-0.1, 1.1)\n",
    "pyplot.ylim(1.0, -0.6)\n",
    "pyplot.title('Number of panels: %d' %N);"
   ]
  },
  {
   "cell_type": "code",
   "execution_count": 38,
   "metadata": {
    "collapsed": false
   },
   "outputs": [
    {
     "name": "stdout",
     "output_type": "stream",
     "text": [
      "--> sum of source/sink strengths: 0.00461703117528311\n"
     ]
    }
   ],
   "source": [
    "# accuracy check \n",
    "accuracy = sum([panel.sigma*panel.length for panel in panels])\n",
    "print('--> sum of source/sink strengths: {}' .format(accuracy))"
   ]
  },
  {
   "cell_type": "code",
   "execution_count": null,
   "metadata": {
    "collapsed": true
   },
   "outputs": [],
   "source": []
  }
 ],
 "metadata": {
  "anaconda-cloud": {},
  "kernelspec": {
   "display_name": "Python [conda root]",
   "language": "python",
   "name": "conda-root-py"
  },
  "language_info": {
   "codemirror_mode": {
    "name": "ipython",
    "version": 3
   },
   "file_extension": ".py",
   "mimetype": "text/x-python",
   "name": "python",
   "nbconvert_exporter": "python",
   "pygments_lexer": "ipython3",
   "version": "3.5.2"
  }
 },
 "nbformat": 4,
 "nbformat_minor": 1
}
